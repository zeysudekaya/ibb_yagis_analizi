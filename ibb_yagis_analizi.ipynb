{
  "nbformat": 4,
  "nbformat_minor": 0,
  "metadata": {
    "colab": {
      "provenance": []
    },
    "kernelspec": {
      "name": "python3",
      "display_name": "Python 3"
    },
    "language_info": {
      "name": "python"
    }
  },
  "cells": [
    {
      "cell_type": "code",
      "execution_count": 3,
      "metadata": {
        "id": "KlJ4XMlnPE4k"
      },
      "outputs": [],
      "source": [
        "import pandas as pd\n",
        "import seaborn as sns\n",
        "import matplotlib.pyplot as plt\n",
        "import numpy as np\n",
        "import plotly.express as px\n",
        "%matplotlib inline"
      ]
    },
    {
      "cell_type": "code",
      "source": [
        "df = pd.read_csv(\"veri.csv\",sep= ';',encoding = 'ISO-8859-1', parse_dates=[\"Tarih\"],dayfirst=True)\n",
        "df\n"
      ],
      "metadata": {
        "colab": {
          "base_uri": "https://localhost:8080/",
          "height": 424
        },
        "id": "85KVcHOheZiF",
        "outputId": "29a43038-db3e-42da-903b-09b86e8a5f2c"
      },
      "execution_count": 4,
      "outputs": [
        {
          "output_type": "execute_result",
          "data": {
            "text/plain": [
              "          Tarih Ömerli Darlik Elmali Terkos B.çekmece Sazlidere Alibey  \\\n",
              "0    2011-01-01      0      0      0      0         0         0      0   \n",
              "1    2011-01-02      0      0      0      0         0         0      0   \n",
              "2    2011-01-03      0      0      0   0,42      1,37      0,87    0,2   \n",
              "3    2011-01-04   8,08  10,01  11,64  18,82      9,64     14,72   13,5   \n",
              "4    2011-01-05   2,78   8,48   7,09   3,42      0,83      4,31    4,3   \n",
              "...         ...    ...    ...    ...    ...       ...       ...    ...   \n",
              "3718 2021-03-07  10,93  13,44  11,33   17,8      14,4       6,5   10,4   \n",
              "3719 2021-03-08   0,33      0      0      0       0,2         0    0,4   \n",
              "3720 2021-03-09      0      0      0      0         0         0      0   \n",
              "3721 2021-03-10      0      0      0      0         0         0      0   \n",
              "3722 2021-03-11    8,8    8,5    6,2   11,4       7,4       6,1    7,2   \n",
              "\n",
              "     Kazandere Pabuçdere  \n",
              "0            0         0  \n",
              "1            0         0  \n",
              "2         2,26      1,89  \n",
              "3          8,2     10,37  \n",
              "4         1,44       1,6  \n",
              "...        ...       ...  \n",
              "3718      23,4     20,86  \n",
              "3719         0         0  \n",
              "3720         0         0  \n",
              "3721         0         0  \n",
              "3722       5,4      5,82  \n",
              "\n",
              "[3723 rows x 10 columns]"
            ],
            "text/html": [
              "\n",
              "  <div id=\"df-9cb02205-9694-4c9f-a936-12817f4a9595\">\n",
              "    <div class=\"colab-df-container\">\n",
              "      <div>\n",
              "<style scoped>\n",
              "    .dataframe tbody tr th:only-of-type {\n",
              "        vertical-align: middle;\n",
              "    }\n",
              "\n",
              "    .dataframe tbody tr th {\n",
              "        vertical-align: top;\n",
              "    }\n",
              "\n",
              "    .dataframe thead th {\n",
              "        text-align: right;\n",
              "    }\n",
              "</style>\n",
              "<table border=\"1\" class=\"dataframe\">\n",
              "  <thead>\n",
              "    <tr style=\"text-align: right;\">\n",
              "      <th></th>\n",
              "      <th>Tarih</th>\n",
              "      <th>Ömerli</th>\n",
              "      <th>Darlik</th>\n",
              "      <th>Elmali</th>\n",
              "      <th>Terkos</th>\n",
              "      <th>B.çekmece</th>\n",
              "      <th>Sazlidere</th>\n",
              "      <th>Alibey</th>\n",
              "      <th>Kazandere</th>\n",
              "      <th>Pabuçdere</th>\n",
              "    </tr>\n",
              "  </thead>\n",
              "  <tbody>\n",
              "    <tr>\n",
              "      <th>0</th>\n",
              "      <td>2011-01-01</td>\n",
              "      <td>0</td>\n",
              "      <td>0</td>\n",
              "      <td>0</td>\n",
              "      <td>0</td>\n",
              "      <td>0</td>\n",
              "      <td>0</td>\n",
              "      <td>0</td>\n",
              "      <td>0</td>\n",
              "      <td>0</td>\n",
              "    </tr>\n",
              "    <tr>\n",
              "      <th>1</th>\n",
              "      <td>2011-01-02</td>\n",
              "      <td>0</td>\n",
              "      <td>0</td>\n",
              "      <td>0</td>\n",
              "      <td>0</td>\n",
              "      <td>0</td>\n",
              "      <td>0</td>\n",
              "      <td>0</td>\n",
              "      <td>0</td>\n",
              "      <td>0</td>\n",
              "    </tr>\n",
              "    <tr>\n",
              "      <th>2</th>\n",
              "      <td>2011-01-03</td>\n",
              "      <td>0</td>\n",
              "      <td>0</td>\n",
              "      <td>0</td>\n",
              "      <td>0,42</td>\n",
              "      <td>1,37</td>\n",
              "      <td>0,87</td>\n",
              "      <td>0,2</td>\n",
              "      <td>2,26</td>\n",
              "      <td>1,89</td>\n",
              "    </tr>\n",
              "    <tr>\n",
              "      <th>3</th>\n",
              "      <td>2011-01-04</td>\n",
              "      <td>8,08</td>\n",
              "      <td>10,01</td>\n",
              "      <td>11,64</td>\n",
              "      <td>18,82</td>\n",
              "      <td>9,64</td>\n",
              "      <td>14,72</td>\n",
              "      <td>13,5</td>\n",
              "      <td>8,2</td>\n",
              "      <td>10,37</td>\n",
              "    </tr>\n",
              "    <tr>\n",
              "      <th>4</th>\n",
              "      <td>2011-01-05</td>\n",
              "      <td>2,78</td>\n",
              "      <td>8,48</td>\n",
              "      <td>7,09</td>\n",
              "      <td>3,42</td>\n",
              "      <td>0,83</td>\n",
              "      <td>4,31</td>\n",
              "      <td>4,3</td>\n",
              "      <td>1,44</td>\n",
              "      <td>1,6</td>\n",
              "    </tr>\n",
              "    <tr>\n",
              "      <th>...</th>\n",
              "      <td>...</td>\n",
              "      <td>...</td>\n",
              "      <td>...</td>\n",
              "      <td>...</td>\n",
              "      <td>...</td>\n",
              "      <td>...</td>\n",
              "      <td>...</td>\n",
              "      <td>...</td>\n",
              "      <td>...</td>\n",
              "      <td>...</td>\n",
              "    </tr>\n",
              "    <tr>\n",
              "      <th>3718</th>\n",
              "      <td>2021-03-07</td>\n",
              "      <td>10,93</td>\n",
              "      <td>13,44</td>\n",
              "      <td>11,33</td>\n",
              "      <td>17,8</td>\n",
              "      <td>14,4</td>\n",
              "      <td>6,5</td>\n",
              "      <td>10,4</td>\n",
              "      <td>23,4</td>\n",
              "      <td>20,86</td>\n",
              "    </tr>\n",
              "    <tr>\n",
              "      <th>3719</th>\n",
              "      <td>2021-03-08</td>\n",
              "      <td>0,33</td>\n",
              "      <td>0</td>\n",
              "      <td>0</td>\n",
              "      <td>0</td>\n",
              "      <td>0,2</td>\n",
              "      <td>0</td>\n",
              "      <td>0,4</td>\n",
              "      <td>0</td>\n",
              "      <td>0</td>\n",
              "    </tr>\n",
              "    <tr>\n",
              "      <th>3720</th>\n",
              "      <td>2021-03-09</td>\n",
              "      <td>0</td>\n",
              "      <td>0</td>\n",
              "      <td>0</td>\n",
              "      <td>0</td>\n",
              "      <td>0</td>\n",
              "      <td>0</td>\n",
              "      <td>0</td>\n",
              "      <td>0</td>\n",
              "      <td>0</td>\n",
              "    </tr>\n",
              "    <tr>\n",
              "      <th>3721</th>\n",
              "      <td>2021-03-10</td>\n",
              "      <td>0</td>\n",
              "      <td>0</td>\n",
              "      <td>0</td>\n",
              "      <td>0</td>\n",
              "      <td>0</td>\n",
              "      <td>0</td>\n",
              "      <td>0</td>\n",
              "      <td>0</td>\n",
              "      <td>0</td>\n",
              "    </tr>\n",
              "    <tr>\n",
              "      <th>3722</th>\n",
              "      <td>2021-03-11</td>\n",
              "      <td>8,8</td>\n",
              "      <td>8,5</td>\n",
              "      <td>6,2</td>\n",
              "      <td>11,4</td>\n",
              "      <td>7,4</td>\n",
              "      <td>6,1</td>\n",
              "      <td>7,2</td>\n",
              "      <td>5,4</td>\n",
              "      <td>5,82</td>\n",
              "    </tr>\n",
              "  </tbody>\n",
              "</table>\n",
              "<p>3723 rows × 10 columns</p>\n",
              "</div>\n",
              "      <button class=\"colab-df-convert\" onclick=\"convertToInteractive('df-9cb02205-9694-4c9f-a936-12817f4a9595')\"\n",
              "              title=\"Convert this dataframe to an interactive table.\"\n",
              "              style=\"display:none;\">\n",
              "        \n",
              "  <svg xmlns=\"http://www.w3.org/2000/svg\" height=\"24px\"viewBox=\"0 0 24 24\"\n",
              "       width=\"24px\">\n",
              "    <path d=\"M0 0h24v24H0V0z\" fill=\"none\"/>\n",
              "    <path d=\"M18.56 5.44l.94 2.06.94-2.06 2.06-.94-2.06-.94-.94-2.06-.94 2.06-2.06.94zm-11 1L8.5 8.5l.94-2.06 2.06-.94-2.06-.94L8.5 2.5l-.94 2.06-2.06.94zm10 10l.94 2.06.94-2.06 2.06-.94-2.06-.94-.94-2.06-.94 2.06-2.06.94z\"/><path d=\"M17.41 7.96l-1.37-1.37c-.4-.4-.92-.59-1.43-.59-.52 0-1.04.2-1.43.59L10.3 9.45l-7.72 7.72c-.78.78-.78 2.05 0 2.83L4 21.41c.39.39.9.59 1.41.59.51 0 1.02-.2 1.41-.59l7.78-7.78 2.81-2.81c.8-.78.8-2.07 0-2.86zM5.41 20L4 18.59l7.72-7.72 1.47 1.35L5.41 20z\"/>\n",
              "  </svg>\n",
              "      </button>\n",
              "      \n",
              "  <style>\n",
              "    .colab-df-container {\n",
              "      display:flex;\n",
              "      flex-wrap:wrap;\n",
              "      gap: 12px;\n",
              "    }\n",
              "\n",
              "    .colab-df-convert {\n",
              "      background-color: #E8F0FE;\n",
              "      border: none;\n",
              "      border-radius: 50%;\n",
              "      cursor: pointer;\n",
              "      display: none;\n",
              "      fill: #1967D2;\n",
              "      height: 32px;\n",
              "      padding: 0 0 0 0;\n",
              "      width: 32px;\n",
              "    }\n",
              "\n",
              "    .colab-df-convert:hover {\n",
              "      background-color: #E2EBFA;\n",
              "      box-shadow: 0px 1px 2px rgba(60, 64, 67, 0.3), 0px 1px 3px 1px rgba(60, 64, 67, 0.15);\n",
              "      fill: #174EA6;\n",
              "    }\n",
              "\n",
              "    [theme=dark] .colab-df-convert {\n",
              "      background-color: #3B4455;\n",
              "      fill: #D2E3FC;\n",
              "    }\n",
              "\n",
              "    [theme=dark] .colab-df-convert:hover {\n",
              "      background-color: #434B5C;\n",
              "      box-shadow: 0px 1px 3px 1px rgba(0, 0, 0, 0.15);\n",
              "      filter: drop-shadow(0px 1px 2px rgba(0, 0, 0, 0.3));\n",
              "      fill: #FFFFFF;\n",
              "    }\n",
              "  </style>\n",
              "\n",
              "      <script>\n",
              "        const buttonEl =\n",
              "          document.querySelector('#df-9cb02205-9694-4c9f-a936-12817f4a9595 button.colab-df-convert');\n",
              "        buttonEl.style.display =\n",
              "          google.colab.kernel.accessAllowed ? 'block' : 'none';\n",
              "\n",
              "        async function convertToInteractive(key) {\n",
              "          const element = document.querySelector('#df-9cb02205-9694-4c9f-a936-12817f4a9595');\n",
              "          const dataTable =\n",
              "            await google.colab.kernel.invokeFunction('convertToInteractive',\n",
              "                                                     [key], {});\n",
              "          if (!dataTable) return;\n",
              "\n",
              "          const docLinkHtml = 'Like what you see? Visit the ' +\n",
              "            '<a target=\"_blank\" href=https://colab.research.google.com/notebooks/data_table.ipynb>data table notebook</a>'\n",
              "            + ' to learn more about interactive tables.';\n",
              "          element.innerHTML = '';\n",
              "          dataTable['output_type'] = 'display_data';\n",
              "          await google.colab.output.renderOutput(dataTable, element);\n",
              "          const docLink = document.createElement('div');\n",
              "          docLink.innerHTML = docLinkHtml;\n",
              "          element.appendChild(docLink);\n",
              "        }\n",
              "      </script>\n",
              "    </div>\n",
              "  </div>\n",
              "  "
            ]
          },
          "metadata": {},
          "execution_count": 4
        }
      ]
    },
    {
      "cell_type": "markdown",
      "source": [],
      "metadata": {
        "id": "pQzilKi_JdTb"
      }
    },
    {
      "cell_type": "code",
      "source": [
        "df.head() #tabloyu yazdırıdık"
      ],
      "metadata": {
        "colab": {
          "base_uri": "https://localhost:8080/",
          "height": 206
        },
        "id": "zSUgKKEmmhR1",
        "outputId": "0318ba8c-5216-47ae-ac6f-74afeaae88a2"
      },
      "execution_count": 8,
      "outputs": [
        {
          "output_type": "execute_result",
          "data": {
            "text/plain": [
              "       Tarih Ömerli Darlik Elmali Terkos B.çekmece Sazlidere Alibey Kazandere  \\\n",
              "0 2011-01-01      0      0      0      0         0         0      0         0   \n",
              "1 2011-01-02      0      0      0      0         0         0      0         0   \n",
              "2 2011-01-03      0      0      0   0,42      1,37      0,87    0,2      2,26   \n",
              "3 2011-01-04   8,08  10,01  11,64  18,82      9,64     14,72   13,5       8,2   \n",
              "4 2011-01-05   2,78   8,48   7,09   3,42      0,83      4,31    4,3      1,44   \n",
              "\n",
              "  Pabuçdere  \n",
              "0         0  \n",
              "1         0  \n",
              "2      1,89  \n",
              "3     10,37  \n",
              "4       1,6  "
            ],
            "text/html": [
              "\n",
              "  <div id=\"df-9dbd6e5c-f61c-4709-a0f2-9027ee185135\">\n",
              "    <div class=\"colab-df-container\">\n",
              "      <div>\n",
              "<style scoped>\n",
              "    .dataframe tbody tr th:only-of-type {\n",
              "        vertical-align: middle;\n",
              "    }\n",
              "\n",
              "    .dataframe tbody tr th {\n",
              "        vertical-align: top;\n",
              "    }\n",
              "\n",
              "    .dataframe thead th {\n",
              "        text-align: right;\n",
              "    }\n",
              "</style>\n",
              "<table border=\"1\" class=\"dataframe\">\n",
              "  <thead>\n",
              "    <tr style=\"text-align: right;\">\n",
              "      <th></th>\n",
              "      <th>Tarih</th>\n",
              "      <th>Ömerli</th>\n",
              "      <th>Darlik</th>\n",
              "      <th>Elmali</th>\n",
              "      <th>Terkos</th>\n",
              "      <th>B.çekmece</th>\n",
              "      <th>Sazlidere</th>\n",
              "      <th>Alibey</th>\n",
              "      <th>Kazandere</th>\n",
              "      <th>Pabuçdere</th>\n",
              "    </tr>\n",
              "  </thead>\n",
              "  <tbody>\n",
              "    <tr>\n",
              "      <th>0</th>\n",
              "      <td>2011-01-01</td>\n",
              "      <td>0</td>\n",
              "      <td>0</td>\n",
              "      <td>0</td>\n",
              "      <td>0</td>\n",
              "      <td>0</td>\n",
              "      <td>0</td>\n",
              "      <td>0</td>\n",
              "      <td>0</td>\n",
              "      <td>0</td>\n",
              "    </tr>\n",
              "    <tr>\n",
              "      <th>1</th>\n",
              "      <td>2011-01-02</td>\n",
              "      <td>0</td>\n",
              "      <td>0</td>\n",
              "      <td>0</td>\n",
              "      <td>0</td>\n",
              "      <td>0</td>\n",
              "      <td>0</td>\n",
              "      <td>0</td>\n",
              "      <td>0</td>\n",
              "      <td>0</td>\n",
              "    </tr>\n",
              "    <tr>\n",
              "      <th>2</th>\n",
              "      <td>2011-01-03</td>\n",
              "      <td>0</td>\n",
              "      <td>0</td>\n",
              "      <td>0</td>\n",
              "      <td>0,42</td>\n",
              "      <td>1,37</td>\n",
              "      <td>0,87</td>\n",
              "      <td>0,2</td>\n",
              "      <td>2,26</td>\n",
              "      <td>1,89</td>\n",
              "    </tr>\n",
              "    <tr>\n",
              "      <th>3</th>\n",
              "      <td>2011-01-04</td>\n",
              "      <td>8,08</td>\n",
              "      <td>10,01</td>\n",
              "      <td>11,64</td>\n",
              "      <td>18,82</td>\n",
              "      <td>9,64</td>\n",
              "      <td>14,72</td>\n",
              "      <td>13,5</td>\n",
              "      <td>8,2</td>\n",
              "      <td>10,37</td>\n",
              "    </tr>\n",
              "    <tr>\n",
              "      <th>4</th>\n",
              "      <td>2011-01-05</td>\n",
              "      <td>2,78</td>\n",
              "      <td>8,48</td>\n",
              "      <td>7,09</td>\n",
              "      <td>3,42</td>\n",
              "      <td>0,83</td>\n",
              "      <td>4,31</td>\n",
              "      <td>4,3</td>\n",
              "      <td>1,44</td>\n",
              "      <td>1,6</td>\n",
              "    </tr>\n",
              "  </tbody>\n",
              "</table>\n",
              "</div>\n",
              "      <button class=\"colab-df-convert\" onclick=\"convertToInteractive('df-9dbd6e5c-f61c-4709-a0f2-9027ee185135')\"\n",
              "              title=\"Convert this dataframe to an interactive table.\"\n",
              "              style=\"display:none;\">\n",
              "        \n",
              "  <svg xmlns=\"http://www.w3.org/2000/svg\" height=\"24px\"viewBox=\"0 0 24 24\"\n",
              "       width=\"24px\">\n",
              "    <path d=\"M0 0h24v24H0V0z\" fill=\"none\"/>\n",
              "    <path d=\"M18.56 5.44l.94 2.06.94-2.06 2.06-.94-2.06-.94-.94-2.06-.94 2.06-2.06.94zm-11 1L8.5 8.5l.94-2.06 2.06-.94-2.06-.94L8.5 2.5l-.94 2.06-2.06.94zm10 10l.94 2.06.94-2.06 2.06-.94-2.06-.94-.94-2.06-.94 2.06-2.06.94z\"/><path d=\"M17.41 7.96l-1.37-1.37c-.4-.4-.92-.59-1.43-.59-.52 0-1.04.2-1.43.59L10.3 9.45l-7.72 7.72c-.78.78-.78 2.05 0 2.83L4 21.41c.39.39.9.59 1.41.59.51 0 1.02-.2 1.41-.59l7.78-7.78 2.81-2.81c.8-.78.8-2.07 0-2.86zM5.41 20L4 18.59l7.72-7.72 1.47 1.35L5.41 20z\"/>\n",
              "  </svg>\n",
              "      </button>\n",
              "      \n",
              "  <style>\n",
              "    .colab-df-container {\n",
              "      display:flex;\n",
              "      flex-wrap:wrap;\n",
              "      gap: 12px;\n",
              "    }\n",
              "\n",
              "    .colab-df-convert {\n",
              "      background-color: #E8F0FE;\n",
              "      border: none;\n",
              "      border-radius: 50%;\n",
              "      cursor: pointer;\n",
              "      display: none;\n",
              "      fill: #1967D2;\n",
              "      height: 32px;\n",
              "      padding: 0 0 0 0;\n",
              "      width: 32px;\n",
              "    }\n",
              "\n",
              "    .colab-df-convert:hover {\n",
              "      background-color: #E2EBFA;\n",
              "      box-shadow: 0px 1px 2px rgba(60, 64, 67, 0.3), 0px 1px 3px 1px rgba(60, 64, 67, 0.15);\n",
              "      fill: #174EA6;\n",
              "    }\n",
              "\n",
              "    [theme=dark] .colab-df-convert {\n",
              "      background-color: #3B4455;\n",
              "      fill: #D2E3FC;\n",
              "    }\n",
              "\n",
              "    [theme=dark] .colab-df-convert:hover {\n",
              "      background-color: #434B5C;\n",
              "      box-shadow: 0px 1px 3px 1px rgba(0, 0, 0, 0.15);\n",
              "      filter: drop-shadow(0px 1px 2px rgba(0, 0, 0, 0.3));\n",
              "      fill: #FFFFFF;\n",
              "    }\n",
              "  </style>\n",
              "\n",
              "      <script>\n",
              "        const buttonEl =\n",
              "          document.querySelector('#df-9dbd6e5c-f61c-4709-a0f2-9027ee185135 button.colab-df-convert');\n",
              "        buttonEl.style.display =\n",
              "          google.colab.kernel.accessAllowed ? 'block' : 'none';\n",
              "\n",
              "        async function convertToInteractive(key) {\n",
              "          const element = document.querySelector('#df-9dbd6e5c-f61c-4709-a0f2-9027ee185135');\n",
              "          const dataTable =\n",
              "            await google.colab.kernel.invokeFunction('convertToInteractive',\n",
              "                                                     [key], {});\n",
              "          if (!dataTable) return;\n",
              "\n",
              "          const docLinkHtml = 'Like what you see? Visit the ' +\n",
              "            '<a target=\"_blank\" href=https://colab.research.google.com/notebooks/data_table.ipynb>data table notebook</a>'\n",
              "            + ' to learn more about interactive tables.';\n",
              "          element.innerHTML = '';\n",
              "          dataTable['output_type'] = 'display_data';\n",
              "          await google.colab.output.renderOutput(dataTable, element);\n",
              "          const docLink = document.createElement('div');\n",
              "          docLink.innerHTML = docLinkHtml;\n",
              "          element.appendChild(docLink);\n",
              "        }\n",
              "      </script>\n",
              "    </div>\n",
              "  </div>\n",
              "  "
            ]
          },
          "metadata": {},
          "execution_count": 8
        }
      ]
    },
    {
      "cell_type": "code",
      "source": [
        "df.shape #satır ve sütun bilgisini aldık"
      ],
      "metadata": {
        "colab": {
          "base_uri": "https://localhost:8080/"
        },
        "id": "IY8mRd2Bnjxa",
        "outputId": "f486139a-039e-41b6-a96a-232f2f89b85a"
      },
      "execution_count": 9,
      "outputs": [
        {
          "output_type": "execute_result",
          "data": {
            "text/plain": [
              "(3723, 10)"
            ]
          },
          "metadata": {},
          "execution_count": 9
        }
      ]
    },
    {
      "cell_type": "code",
      "source": [
        "df.columns #başlıkları görmüş olduk"
      ],
      "metadata": {
        "colab": {
          "base_uri": "https://localhost:8080/"
        },
        "id": "hpVN8S1rnn3s",
        "outputId": "2c3b5b11-c707-4f97-fd4d-55d904f2cf1f"
      },
      "execution_count": 10,
      "outputs": [
        {
          "output_type": "execute_result",
          "data": {
            "text/plain": [
              "Index(['Tarih', 'Ömerli', 'Darlik', 'Elmali', 'Terkos', 'B.çekmece',\n",
              "       'Sazlidere', 'Alibey', 'Kazandere', 'Pabuçdere'],\n",
              "      dtype='object')"
            ]
          },
          "metadata": {},
          "execution_count": 10
        }
      ]
    },
    {
      "cell_type": "code",
      "source": [
        "df.dtypes"
      ],
      "metadata": {
        "colab": {
          "base_uri": "https://localhost:8080/"
        },
        "id": "kgthSd8enrTr",
        "outputId": "c6fb0abb-9c6d-405a-d994-8fcd9ae69ea0"
      },
      "execution_count": 11,
      "outputs": [
        {
          "output_type": "execute_result",
          "data": {
            "text/plain": [
              "Tarih        datetime64[ns]\n",
              "Ömerli               object\n",
              "Darlik               object\n",
              "Elmali               object\n",
              "Terkos               object\n",
              "B.çekmece            object\n",
              "Sazlidere            object\n",
              "Alibey               object\n",
              "Kazandere            object\n",
              "Pabuçdere            object\n",
              "dtype: object"
            ]
          },
          "metadata": {},
          "execution_count": 11
        }
      ]
    },
    {
      "cell_type": "code",
      "source": [
        "df.isnull().sum()"
      ],
      "metadata": {
        "colab": {
          "base_uri": "https://localhost:8080/"
        },
        "id": "ZhyTjOaentNj",
        "outputId": "5734f4c4-35e7-48ca-da0f-d22bf8d8da94"
      },
      "execution_count": 12,
      "outputs": [
        {
          "output_type": "execute_result",
          "data": {
            "text/plain": [
              "Tarih        0\n",
              "Ömerli       0\n",
              "Darlik       0\n",
              "Elmali       0\n",
              "Terkos       0\n",
              "B.çekmece    0\n",
              "Sazlidere    0\n",
              "Alibey       0\n",
              "Kazandere    0\n",
              "Pabuçdere    0\n",
              "dtype: int64"
            ]
          },
          "metadata": {},
          "execution_count": 12
        }
      ]
    },
    {
      "cell_type": "code",
      "source": [
        "df.nunique()"
      ],
      "metadata": {
        "colab": {
          "base_uri": "https://localhost:8080/"
        },
        "id": "hQuoNyEcnu5U",
        "outputId": "ab901a20-96a0-4f5a-849d-65ec955398de"
      },
      "execution_count": 13,
      "outputs": [
        {
          "output_type": "execute_result",
          "data": {
            "text/plain": [
              "Tarih        3723\n",
              "Ömerli        504\n",
              "Darlik        690\n",
              "Elmali        674\n",
              "Terkos        731\n",
              "B.çekmece     579\n",
              "Sazlidere     654\n",
              "Alibey        660\n",
              "Kazandere     648\n",
              "Pabuçdere     615\n",
              "dtype: int64"
            ]
          },
          "metadata": {},
          "execution_count": 13
        }
      ]
    },
    {
      "cell_type": "code",
      "source": [
        "type(df[\"Tarih\"].loc[0])"
      ],
      "metadata": {
        "colab": {
          "base_uri": "https://localhost:8080/"
        },
        "id": "94-U1uKZmnCa",
        "outputId": "4ff6a0f0-2c03-4549-ef33-127d2124a4f3"
      },
      "execution_count": 14,
      "outputs": [
        {
          "output_type": "execute_result",
          "data": {
            "text/plain": [
              "pandas._libs.tslibs.timestamps.Timestamp"
            ]
          },
          "metadata": {},
          "execution_count": 14
        }
      ]
    },
    {
      "cell_type": "code",
      "source": [
        "df.tail()"
      ],
      "metadata": {
        "colab": {
          "base_uri": "https://localhost:8080/",
          "height": 206
        },
        "id": "boOLH-5FmxOy",
        "outputId": "4e417a3f-f62c-4db9-d3b7-2799499fbc74"
      },
      "execution_count": 15,
      "outputs": [
        {
          "output_type": "execute_result",
          "data": {
            "text/plain": [
              "          Tarih Ömerli Darlik Elmali Terkos B.çekmece Sazlidere Alibey  \\\n",
              "3718 2021-03-07  10,93  13,44  11,33   17,8      14,4       6,5   10,4   \n",
              "3719 2021-03-08   0,33      0      0      0       0,2         0    0,4   \n",
              "3720 2021-03-09      0      0      0      0         0         0      0   \n",
              "3721 2021-03-10      0      0      0      0         0         0      0   \n",
              "3722 2021-03-11    8,8    8,5    6,2   11,4       7,4       6,1    7,2   \n",
              "\n",
              "     Kazandere Pabuçdere  \n",
              "3718      23,4     20,86  \n",
              "3719         0         0  \n",
              "3720         0         0  \n",
              "3721         0         0  \n",
              "3722       5,4      5,82  "
            ],
            "text/html": [
              "\n",
              "  <div id=\"df-bc55abdd-8ac8-4f97-9c98-516396b94cae\">\n",
              "    <div class=\"colab-df-container\">\n",
              "      <div>\n",
              "<style scoped>\n",
              "    .dataframe tbody tr th:only-of-type {\n",
              "        vertical-align: middle;\n",
              "    }\n",
              "\n",
              "    .dataframe tbody tr th {\n",
              "        vertical-align: top;\n",
              "    }\n",
              "\n",
              "    .dataframe thead th {\n",
              "        text-align: right;\n",
              "    }\n",
              "</style>\n",
              "<table border=\"1\" class=\"dataframe\">\n",
              "  <thead>\n",
              "    <tr style=\"text-align: right;\">\n",
              "      <th></th>\n",
              "      <th>Tarih</th>\n",
              "      <th>Ömerli</th>\n",
              "      <th>Darlik</th>\n",
              "      <th>Elmali</th>\n",
              "      <th>Terkos</th>\n",
              "      <th>B.çekmece</th>\n",
              "      <th>Sazlidere</th>\n",
              "      <th>Alibey</th>\n",
              "      <th>Kazandere</th>\n",
              "      <th>Pabuçdere</th>\n",
              "    </tr>\n",
              "  </thead>\n",
              "  <tbody>\n",
              "    <tr>\n",
              "      <th>3718</th>\n",
              "      <td>2021-03-07</td>\n",
              "      <td>10,93</td>\n",
              "      <td>13,44</td>\n",
              "      <td>11,33</td>\n",
              "      <td>17,8</td>\n",
              "      <td>14,4</td>\n",
              "      <td>6,5</td>\n",
              "      <td>10,4</td>\n",
              "      <td>23,4</td>\n",
              "      <td>20,86</td>\n",
              "    </tr>\n",
              "    <tr>\n",
              "      <th>3719</th>\n",
              "      <td>2021-03-08</td>\n",
              "      <td>0,33</td>\n",
              "      <td>0</td>\n",
              "      <td>0</td>\n",
              "      <td>0</td>\n",
              "      <td>0,2</td>\n",
              "      <td>0</td>\n",
              "      <td>0,4</td>\n",
              "      <td>0</td>\n",
              "      <td>0</td>\n",
              "    </tr>\n",
              "    <tr>\n",
              "      <th>3720</th>\n",
              "      <td>2021-03-09</td>\n",
              "      <td>0</td>\n",
              "      <td>0</td>\n",
              "      <td>0</td>\n",
              "      <td>0</td>\n",
              "      <td>0</td>\n",
              "      <td>0</td>\n",
              "      <td>0</td>\n",
              "      <td>0</td>\n",
              "      <td>0</td>\n",
              "    </tr>\n",
              "    <tr>\n",
              "      <th>3721</th>\n",
              "      <td>2021-03-10</td>\n",
              "      <td>0</td>\n",
              "      <td>0</td>\n",
              "      <td>0</td>\n",
              "      <td>0</td>\n",
              "      <td>0</td>\n",
              "      <td>0</td>\n",
              "      <td>0</td>\n",
              "      <td>0</td>\n",
              "      <td>0</td>\n",
              "    </tr>\n",
              "    <tr>\n",
              "      <th>3722</th>\n",
              "      <td>2021-03-11</td>\n",
              "      <td>8,8</td>\n",
              "      <td>8,5</td>\n",
              "      <td>6,2</td>\n",
              "      <td>11,4</td>\n",
              "      <td>7,4</td>\n",
              "      <td>6,1</td>\n",
              "      <td>7,2</td>\n",
              "      <td>5,4</td>\n",
              "      <td>5,82</td>\n",
              "    </tr>\n",
              "  </tbody>\n",
              "</table>\n",
              "</div>\n",
              "      <button class=\"colab-df-convert\" onclick=\"convertToInteractive('df-bc55abdd-8ac8-4f97-9c98-516396b94cae')\"\n",
              "              title=\"Convert this dataframe to an interactive table.\"\n",
              "              style=\"display:none;\">\n",
              "        \n",
              "  <svg xmlns=\"http://www.w3.org/2000/svg\" height=\"24px\"viewBox=\"0 0 24 24\"\n",
              "       width=\"24px\">\n",
              "    <path d=\"M0 0h24v24H0V0z\" fill=\"none\"/>\n",
              "    <path d=\"M18.56 5.44l.94 2.06.94-2.06 2.06-.94-2.06-.94-.94-2.06-.94 2.06-2.06.94zm-11 1L8.5 8.5l.94-2.06 2.06-.94-2.06-.94L8.5 2.5l-.94 2.06-2.06.94zm10 10l.94 2.06.94-2.06 2.06-.94-2.06-.94-.94-2.06-.94 2.06-2.06.94z\"/><path d=\"M17.41 7.96l-1.37-1.37c-.4-.4-.92-.59-1.43-.59-.52 0-1.04.2-1.43.59L10.3 9.45l-7.72 7.72c-.78.78-.78 2.05 0 2.83L4 21.41c.39.39.9.59 1.41.59.51 0 1.02-.2 1.41-.59l7.78-7.78 2.81-2.81c.8-.78.8-2.07 0-2.86zM5.41 20L4 18.59l7.72-7.72 1.47 1.35L5.41 20z\"/>\n",
              "  </svg>\n",
              "      </button>\n",
              "      \n",
              "  <style>\n",
              "    .colab-df-container {\n",
              "      display:flex;\n",
              "      flex-wrap:wrap;\n",
              "      gap: 12px;\n",
              "    }\n",
              "\n",
              "    .colab-df-convert {\n",
              "      background-color: #E8F0FE;\n",
              "      border: none;\n",
              "      border-radius: 50%;\n",
              "      cursor: pointer;\n",
              "      display: none;\n",
              "      fill: #1967D2;\n",
              "      height: 32px;\n",
              "      padding: 0 0 0 0;\n",
              "      width: 32px;\n",
              "    }\n",
              "\n",
              "    .colab-df-convert:hover {\n",
              "      background-color: #E2EBFA;\n",
              "      box-shadow: 0px 1px 2px rgba(60, 64, 67, 0.3), 0px 1px 3px 1px rgba(60, 64, 67, 0.15);\n",
              "      fill: #174EA6;\n",
              "    }\n",
              "\n",
              "    [theme=dark] .colab-df-convert {\n",
              "      background-color: #3B4455;\n",
              "      fill: #D2E3FC;\n",
              "    }\n",
              "\n",
              "    [theme=dark] .colab-df-convert:hover {\n",
              "      background-color: #434B5C;\n",
              "      box-shadow: 0px 1px 3px 1px rgba(0, 0, 0, 0.15);\n",
              "      filter: drop-shadow(0px 1px 2px rgba(0, 0, 0, 0.3));\n",
              "      fill: #FFFFFF;\n",
              "    }\n",
              "  </style>\n",
              "\n",
              "      <script>\n",
              "        const buttonEl =\n",
              "          document.querySelector('#df-bc55abdd-8ac8-4f97-9c98-516396b94cae button.colab-df-convert');\n",
              "        buttonEl.style.display =\n",
              "          google.colab.kernel.accessAllowed ? 'block' : 'none';\n",
              "\n",
              "        async function convertToInteractive(key) {\n",
              "          const element = document.querySelector('#df-bc55abdd-8ac8-4f97-9c98-516396b94cae');\n",
              "          const dataTable =\n",
              "            await google.colab.kernel.invokeFunction('convertToInteractive',\n",
              "                                                     [key], {});\n",
              "          if (!dataTable) return;\n",
              "\n",
              "          const docLinkHtml = 'Like what you see? Visit the ' +\n",
              "            '<a target=\"_blank\" href=https://colab.research.google.com/notebooks/data_table.ipynb>data table notebook</a>'\n",
              "            + ' to learn more about interactive tables.';\n",
              "          element.innerHTML = '';\n",
              "          dataTable['output_type'] = 'display_data';\n",
              "          await google.colab.output.renderOutput(dataTable, element);\n",
              "          const docLink = document.createElement('div');\n",
              "          docLink.innerHTML = docLinkHtml;\n",
              "          element.appendChild(docLink);\n",
              "        }\n",
              "      </script>\n",
              "    </div>\n",
              "  </div>\n",
              "  "
            ]
          },
          "metadata": {},
          "execution_count": 15
        }
      ]
    },
    {
      "cell_type": "code",
      "source": [
        "data=df.copy()\n"
      ],
      "metadata": {
        "id": "-t1a-I-nnzD9"
      },
      "execution_count": 16,
      "outputs": []
    },
    {
      "cell_type": "code",
      "source": [
        "data.shape"
      ],
      "metadata": {
        "colab": {
          "base_uri": "https://localhost:8080/"
        },
        "id": "uRuMRecrn3dI",
        "outputId": "503fe43b-9803-4003-a60a-952adfe8b106"
      },
      "execution_count": 17,
      "outputs": [
        {
          "output_type": "execute_result",
          "data": {
            "text/plain": [
              "(3723, 10)"
            ]
          },
          "metadata": {},
          "execution_count": 17
        }
      ]
    },
    {
      "cell_type": "code",
      "source": [
        "df.head()"
      ],
      "metadata": {
        "colab": {
          "base_uri": "https://localhost:8080/",
          "height": 206
        },
        "id": "vqxKyJotnOrA",
        "outputId": "6b661d2a-5195-4a36-8bbe-0869a19f3b4d"
      },
      "execution_count": 18,
      "outputs": [
        {
          "output_type": "execute_result",
          "data": {
            "text/plain": [
              "       Tarih Ömerli Darlik Elmali Terkos B.çekmece Sazlidere Alibey Kazandere  \\\n",
              "0 2011-01-01      0      0      0      0         0         0      0         0   \n",
              "1 2011-01-02      0      0      0      0         0         0      0         0   \n",
              "2 2011-01-03      0      0      0   0,42      1,37      0,87    0,2      2,26   \n",
              "3 2011-01-04   8,08  10,01  11,64  18,82      9,64     14,72   13,5       8,2   \n",
              "4 2011-01-05   2,78   8,48   7,09   3,42      0,83      4,31    4,3      1,44   \n",
              "\n",
              "  Pabuçdere  \n",
              "0         0  \n",
              "1         0  \n",
              "2      1,89  \n",
              "3     10,37  \n",
              "4       1,6  "
            ],
            "text/html": [
              "\n",
              "  <div id=\"df-65023fda-ce94-4df9-b1be-c5afb7c2cba5\">\n",
              "    <div class=\"colab-df-container\">\n",
              "      <div>\n",
              "<style scoped>\n",
              "    .dataframe tbody tr th:only-of-type {\n",
              "        vertical-align: middle;\n",
              "    }\n",
              "\n",
              "    .dataframe tbody tr th {\n",
              "        vertical-align: top;\n",
              "    }\n",
              "\n",
              "    .dataframe thead th {\n",
              "        text-align: right;\n",
              "    }\n",
              "</style>\n",
              "<table border=\"1\" class=\"dataframe\">\n",
              "  <thead>\n",
              "    <tr style=\"text-align: right;\">\n",
              "      <th></th>\n",
              "      <th>Tarih</th>\n",
              "      <th>Ömerli</th>\n",
              "      <th>Darlik</th>\n",
              "      <th>Elmali</th>\n",
              "      <th>Terkos</th>\n",
              "      <th>B.çekmece</th>\n",
              "      <th>Sazlidere</th>\n",
              "      <th>Alibey</th>\n",
              "      <th>Kazandere</th>\n",
              "      <th>Pabuçdere</th>\n",
              "    </tr>\n",
              "  </thead>\n",
              "  <tbody>\n",
              "    <tr>\n",
              "      <th>0</th>\n",
              "      <td>2011-01-01</td>\n",
              "      <td>0</td>\n",
              "      <td>0</td>\n",
              "      <td>0</td>\n",
              "      <td>0</td>\n",
              "      <td>0</td>\n",
              "      <td>0</td>\n",
              "      <td>0</td>\n",
              "      <td>0</td>\n",
              "      <td>0</td>\n",
              "    </tr>\n",
              "    <tr>\n",
              "      <th>1</th>\n",
              "      <td>2011-01-02</td>\n",
              "      <td>0</td>\n",
              "      <td>0</td>\n",
              "      <td>0</td>\n",
              "      <td>0</td>\n",
              "      <td>0</td>\n",
              "      <td>0</td>\n",
              "      <td>0</td>\n",
              "      <td>0</td>\n",
              "      <td>0</td>\n",
              "    </tr>\n",
              "    <tr>\n",
              "      <th>2</th>\n",
              "      <td>2011-01-03</td>\n",
              "      <td>0</td>\n",
              "      <td>0</td>\n",
              "      <td>0</td>\n",
              "      <td>0,42</td>\n",
              "      <td>1,37</td>\n",
              "      <td>0,87</td>\n",
              "      <td>0,2</td>\n",
              "      <td>2,26</td>\n",
              "      <td>1,89</td>\n",
              "    </tr>\n",
              "    <tr>\n",
              "      <th>3</th>\n",
              "      <td>2011-01-04</td>\n",
              "      <td>8,08</td>\n",
              "      <td>10,01</td>\n",
              "      <td>11,64</td>\n",
              "      <td>18,82</td>\n",
              "      <td>9,64</td>\n",
              "      <td>14,72</td>\n",
              "      <td>13,5</td>\n",
              "      <td>8,2</td>\n",
              "      <td>10,37</td>\n",
              "    </tr>\n",
              "    <tr>\n",
              "      <th>4</th>\n",
              "      <td>2011-01-05</td>\n",
              "      <td>2,78</td>\n",
              "      <td>8,48</td>\n",
              "      <td>7,09</td>\n",
              "      <td>3,42</td>\n",
              "      <td>0,83</td>\n",
              "      <td>4,31</td>\n",
              "      <td>4,3</td>\n",
              "      <td>1,44</td>\n",
              "      <td>1,6</td>\n",
              "    </tr>\n",
              "  </tbody>\n",
              "</table>\n",
              "</div>\n",
              "      <button class=\"colab-df-convert\" onclick=\"convertToInteractive('df-65023fda-ce94-4df9-b1be-c5afb7c2cba5')\"\n",
              "              title=\"Convert this dataframe to an interactive table.\"\n",
              "              style=\"display:none;\">\n",
              "        \n",
              "  <svg xmlns=\"http://www.w3.org/2000/svg\" height=\"24px\"viewBox=\"0 0 24 24\"\n",
              "       width=\"24px\">\n",
              "    <path d=\"M0 0h24v24H0V0z\" fill=\"none\"/>\n",
              "    <path d=\"M18.56 5.44l.94 2.06.94-2.06 2.06-.94-2.06-.94-.94-2.06-.94 2.06-2.06.94zm-11 1L8.5 8.5l.94-2.06 2.06-.94-2.06-.94L8.5 2.5l-.94 2.06-2.06.94zm10 10l.94 2.06.94-2.06 2.06-.94-2.06-.94-.94-2.06-.94 2.06-2.06.94z\"/><path d=\"M17.41 7.96l-1.37-1.37c-.4-.4-.92-.59-1.43-.59-.52 0-1.04.2-1.43.59L10.3 9.45l-7.72 7.72c-.78.78-.78 2.05 0 2.83L4 21.41c.39.39.9.59 1.41.59.51 0 1.02-.2 1.41-.59l7.78-7.78 2.81-2.81c.8-.78.8-2.07 0-2.86zM5.41 20L4 18.59l7.72-7.72 1.47 1.35L5.41 20z\"/>\n",
              "  </svg>\n",
              "      </button>\n",
              "      \n",
              "  <style>\n",
              "    .colab-df-container {\n",
              "      display:flex;\n",
              "      flex-wrap:wrap;\n",
              "      gap: 12px;\n",
              "    }\n",
              "\n",
              "    .colab-df-convert {\n",
              "      background-color: #E8F0FE;\n",
              "      border: none;\n",
              "      border-radius: 50%;\n",
              "      cursor: pointer;\n",
              "      display: none;\n",
              "      fill: #1967D2;\n",
              "      height: 32px;\n",
              "      padding: 0 0 0 0;\n",
              "      width: 32px;\n",
              "    }\n",
              "\n",
              "    .colab-df-convert:hover {\n",
              "      background-color: #E2EBFA;\n",
              "      box-shadow: 0px 1px 2px rgba(60, 64, 67, 0.3), 0px 1px 3px 1px rgba(60, 64, 67, 0.15);\n",
              "      fill: #174EA6;\n",
              "    }\n",
              "\n",
              "    [theme=dark] .colab-df-convert {\n",
              "      background-color: #3B4455;\n",
              "      fill: #D2E3FC;\n",
              "    }\n",
              "\n",
              "    [theme=dark] .colab-df-convert:hover {\n",
              "      background-color: #434B5C;\n",
              "      box-shadow: 0px 1px 3px 1px rgba(0, 0, 0, 0.15);\n",
              "      filter: drop-shadow(0px 1px 2px rgba(0, 0, 0, 0.3));\n",
              "      fill: #FFFFFF;\n",
              "    }\n",
              "  </style>\n",
              "\n",
              "      <script>\n",
              "        const buttonEl =\n",
              "          document.querySelector('#df-65023fda-ce94-4df9-b1be-c5afb7c2cba5 button.colab-df-convert');\n",
              "        buttonEl.style.display =\n",
              "          google.colab.kernel.accessAllowed ? 'block' : 'none';\n",
              "\n",
              "        async function convertToInteractive(key) {\n",
              "          const element = document.querySelector('#df-65023fda-ce94-4df9-b1be-c5afb7c2cba5');\n",
              "          const dataTable =\n",
              "            await google.colab.kernel.invokeFunction('convertToInteractive',\n",
              "                                                     [key], {});\n",
              "          if (!dataTable) return;\n",
              "\n",
              "          const docLinkHtml = 'Like what you see? Visit the ' +\n",
              "            '<a target=\"_blank\" href=https://colab.research.google.com/notebooks/data_table.ipynb>data table notebook</a>'\n",
              "            + ' to learn more about interactive tables.';\n",
              "          element.innerHTML = '';\n",
              "          dataTable['output_type'] = 'display_data';\n",
              "          await google.colab.output.renderOutput(dataTable, element);\n",
              "          const docLink = document.createElement('div');\n",
              "          docLink.innerHTML = docLinkHtml;\n",
              "          element.appendChild(docLink);\n",
              "        }\n",
              "      </script>\n",
              "    </div>\n",
              "  </div>\n",
              "  "
            ]
          },
          "metadata": {},
          "execution_count": 18
        }
      ]
    },
    {
      "cell_type": "code",
      "source": [
        "df.info()"
      ],
      "metadata": {
        "colab": {
          "base_uri": "https://localhost:8080/"
        },
        "id": "ZyXkvAbDnPxL",
        "outputId": "d797d2de-e86e-4c4d-fffb-e00f5b513475"
      },
      "execution_count": 19,
      "outputs": [
        {
          "output_type": "stream",
          "name": "stdout",
          "text": [
            "<class 'pandas.core.frame.DataFrame'>\n",
            "RangeIndex: 3723 entries, 0 to 3722\n",
            "Data columns (total 10 columns):\n",
            " #   Column     Non-Null Count  Dtype         \n",
            "---  ------     --------------  -----         \n",
            " 0   Tarih      3723 non-null   datetime64[ns]\n",
            " 1   Ömerli     3723 non-null   object        \n",
            " 2   Darlik     3723 non-null   object        \n",
            " 3   Elmali     3723 non-null   object        \n",
            " 4   Terkos     3723 non-null   object        \n",
            " 5   B.çekmece  3723 non-null   object        \n",
            " 6   Sazlidere  3723 non-null   object        \n",
            " 7   Alibey     3723 non-null   object        \n",
            " 8   Kazandere  3723 non-null   object        \n",
            " 9   Pabuçdere  3723 non-null   object        \n",
            "dtypes: datetime64[ns](1), object(9)\n",
            "memory usage: 291.0+ KB\n"
          ]
        }
      ]
    },
    {
      "cell_type": "code",
      "source": [
        "floor_rate=data[[\"Tarih\",\"Ömerli\",\"Elmali\"]]\n",
        "floor_rate"
      ],
      "metadata": {
        "colab": {
          "base_uri": "https://localhost:8080/",
          "height": 424
        },
        "id": "NPHeiIKdn-o6",
        "outputId": "f22649cd-2fde-4d13-dcfc-1ee1818e3861"
      },
      "execution_count": 20,
      "outputs": [
        {
          "output_type": "execute_result",
          "data": {
            "text/plain": [
              "          Tarih Ömerli Elmali\n",
              "0    2011-01-01      0      0\n",
              "1    2011-01-02      0      0\n",
              "2    2011-01-03      0      0\n",
              "3    2011-01-04   8,08  11,64\n",
              "4    2011-01-05   2,78   7,09\n",
              "...         ...    ...    ...\n",
              "3718 2021-03-07  10,93  11,33\n",
              "3719 2021-03-08   0,33      0\n",
              "3720 2021-03-09      0      0\n",
              "3721 2021-03-10      0      0\n",
              "3722 2021-03-11    8,8    6,2\n",
              "\n",
              "[3723 rows x 3 columns]"
            ],
            "text/html": [
              "\n",
              "  <div id=\"df-91b1bfab-29af-41c1-8738-e7ecbf2de532\">\n",
              "    <div class=\"colab-df-container\">\n",
              "      <div>\n",
              "<style scoped>\n",
              "    .dataframe tbody tr th:only-of-type {\n",
              "        vertical-align: middle;\n",
              "    }\n",
              "\n",
              "    .dataframe tbody tr th {\n",
              "        vertical-align: top;\n",
              "    }\n",
              "\n",
              "    .dataframe thead th {\n",
              "        text-align: right;\n",
              "    }\n",
              "</style>\n",
              "<table border=\"1\" class=\"dataframe\">\n",
              "  <thead>\n",
              "    <tr style=\"text-align: right;\">\n",
              "      <th></th>\n",
              "      <th>Tarih</th>\n",
              "      <th>Ömerli</th>\n",
              "      <th>Elmali</th>\n",
              "    </tr>\n",
              "  </thead>\n",
              "  <tbody>\n",
              "    <tr>\n",
              "      <th>0</th>\n",
              "      <td>2011-01-01</td>\n",
              "      <td>0</td>\n",
              "      <td>0</td>\n",
              "    </tr>\n",
              "    <tr>\n",
              "      <th>1</th>\n",
              "      <td>2011-01-02</td>\n",
              "      <td>0</td>\n",
              "      <td>0</td>\n",
              "    </tr>\n",
              "    <tr>\n",
              "      <th>2</th>\n",
              "      <td>2011-01-03</td>\n",
              "      <td>0</td>\n",
              "      <td>0</td>\n",
              "    </tr>\n",
              "    <tr>\n",
              "      <th>3</th>\n",
              "      <td>2011-01-04</td>\n",
              "      <td>8,08</td>\n",
              "      <td>11,64</td>\n",
              "    </tr>\n",
              "    <tr>\n",
              "      <th>4</th>\n",
              "      <td>2011-01-05</td>\n",
              "      <td>2,78</td>\n",
              "      <td>7,09</td>\n",
              "    </tr>\n",
              "    <tr>\n",
              "      <th>...</th>\n",
              "      <td>...</td>\n",
              "      <td>...</td>\n",
              "      <td>...</td>\n",
              "    </tr>\n",
              "    <tr>\n",
              "      <th>3718</th>\n",
              "      <td>2021-03-07</td>\n",
              "      <td>10,93</td>\n",
              "      <td>11,33</td>\n",
              "    </tr>\n",
              "    <tr>\n",
              "      <th>3719</th>\n",
              "      <td>2021-03-08</td>\n",
              "      <td>0,33</td>\n",
              "      <td>0</td>\n",
              "    </tr>\n",
              "    <tr>\n",
              "      <th>3720</th>\n",
              "      <td>2021-03-09</td>\n",
              "      <td>0</td>\n",
              "      <td>0</td>\n",
              "    </tr>\n",
              "    <tr>\n",
              "      <th>3721</th>\n",
              "      <td>2021-03-10</td>\n",
              "      <td>0</td>\n",
              "      <td>0</td>\n",
              "    </tr>\n",
              "    <tr>\n",
              "      <th>3722</th>\n",
              "      <td>2021-03-11</td>\n",
              "      <td>8,8</td>\n",
              "      <td>6,2</td>\n",
              "    </tr>\n",
              "  </tbody>\n",
              "</table>\n",
              "<p>3723 rows × 3 columns</p>\n",
              "</div>\n",
              "      <button class=\"colab-df-convert\" onclick=\"convertToInteractive('df-91b1bfab-29af-41c1-8738-e7ecbf2de532')\"\n",
              "              title=\"Convert this dataframe to an interactive table.\"\n",
              "              style=\"display:none;\">\n",
              "        \n",
              "  <svg xmlns=\"http://www.w3.org/2000/svg\" height=\"24px\"viewBox=\"0 0 24 24\"\n",
              "       width=\"24px\">\n",
              "    <path d=\"M0 0h24v24H0V0z\" fill=\"none\"/>\n",
              "    <path d=\"M18.56 5.44l.94 2.06.94-2.06 2.06-.94-2.06-.94-.94-2.06-.94 2.06-2.06.94zm-11 1L8.5 8.5l.94-2.06 2.06-.94-2.06-.94L8.5 2.5l-.94 2.06-2.06.94zm10 10l.94 2.06.94-2.06 2.06-.94-2.06-.94-.94-2.06-.94 2.06-2.06.94z\"/><path d=\"M17.41 7.96l-1.37-1.37c-.4-.4-.92-.59-1.43-.59-.52 0-1.04.2-1.43.59L10.3 9.45l-7.72 7.72c-.78.78-.78 2.05 0 2.83L4 21.41c.39.39.9.59 1.41.59.51 0 1.02-.2 1.41-.59l7.78-7.78 2.81-2.81c.8-.78.8-2.07 0-2.86zM5.41 20L4 18.59l7.72-7.72 1.47 1.35L5.41 20z\"/>\n",
              "  </svg>\n",
              "      </button>\n",
              "      \n",
              "  <style>\n",
              "    .colab-df-container {\n",
              "      display:flex;\n",
              "      flex-wrap:wrap;\n",
              "      gap: 12px;\n",
              "    }\n",
              "\n",
              "    .colab-df-convert {\n",
              "      background-color: #E8F0FE;\n",
              "      border: none;\n",
              "      border-radius: 50%;\n",
              "      cursor: pointer;\n",
              "      display: none;\n",
              "      fill: #1967D2;\n",
              "      height: 32px;\n",
              "      padding: 0 0 0 0;\n",
              "      width: 32px;\n",
              "    }\n",
              "\n",
              "    .colab-df-convert:hover {\n",
              "      background-color: #E2EBFA;\n",
              "      box-shadow: 0px 1px 2px rgba(60, 64, 67, 0.3), 0px 1px 3px 1px rgba(60, 64, 67, 0.15);\n",
              "      fill: #174EA6;\n",
              "    }\n",
              "\n",
              "    [theme=dark] .colab-df-convert {\n",
              "      background-color: #3B4455;\n",
              "      fill: #D2E3FC;\n",
              "    }\n",
              "\n",
              "    [theme=dark] .colab-df-convert:hover {\n",
              "      background-color: #434B5C;\n",
              "      box-shadow: 0px 1px 3px 1px rgba(0, 0, 0, 0.15);\n",
              "      filter: drop-shadow(0px 1px 2px rgba(0, 0, 0, 0.3));\n",
              "      fill: #FFFFFF;\n",
              "    }\n",
              "  </style>\n",
              "\n",
              "      <script>\n",
              "        const buttonEl =\n",
              "          document.querySelector('#df-91b1bfab-29af-41c1-8738-e7ecbf2de532 button.colab-df-convert');\n",
              "        buttonEl.style.display =\n",
              "          google.colab.kernel.accessAllowed ? 'block' : 'none';\n",
              "\n",
              "        async function convertToInteractive(key) {\n",
              "          const element = document.querySelector('#df-91b1bfab-29af-41c1-8738-e7ecbf2de532');\n",
              "          const dataTable =\n",
              "            await google.colab.kernel.invokeFunction('convertToInteractive',\n",
              "                                                     [key], {});\n",
              "          if (!dataTable) return;\n",
              "\n",
              "          const docLinkHtml = 'Like what you see? Visit the ' +\n",
              "            '<a target=\"_blank\" href=https://colab.research.google.com/notebooks/data_table.ipynb>data table notebook</a>'\n",
              "            + ' to learn more about interactive tables.';\n",
              "          element.innerHTML = '';\n",
              "          dataTable['output_type'] = 'display_data';\n",
              "          await google.colab.output.renderOutput(dataTable, element);\n",
              "          const docLink = document.createElement('div');\n",
              "          docLink.innerHTML = docLinkHtml;\n",
              "          element.appendChild(docLink);\n",
              "        }\n",
              "      </script>\n",
              "    </div>\n",
              "  </div>\n",
              "  "
            ]
          },
          "metadata": {},
          "execution_count": 20
        }
      ]
    },
    {
      "cell_type": "code",
      "source": [
        "floor_rate[\"Ömerli\"].max()"
      ],
      "metadata": {
        "colab": {
          "base_uri": "https://localhost:8080/",
          "height": 36
        },
        "id": "FLh1qTSMoFYI",
        "outputId": "0a6c12a1-5b0d-4952-840d-b5b7333132dd"
      },
      "execution_count": 21,
      "outputs": [
        {
          "output_type": "execute_result",
          "data": {
            "text/plain": [
              "'9,98'"
            ],
            "application/vnd.google.colaboratory.intrinsic+json": {
              "type": "string"
            }
          },
          "metadata": {},
          "execution_count": 21
        }
      ]
    },
    {
      "cell_type": "code",
      "source": [
        "df[\"Ömerli\"].describe()"
      ],
      "metadata": {
        "colab": {
          "base_uri": "https://localhost:8080/"
        },
        "id": "gHnWdV_roIeJ",
        "outputId": "5ebfe1dd-b3a1-4230-ca04-e9296eec87cc"
      },
      "execution_count": 22,
      "outputs": [
        {
          "output_type": "execute_result",
          "data": {
            "text/plain": [
              "count     3723\n",
              "unique     504\n",
              "top          0\n",
              "freq      2677\n",
              "Name: Ömerli, dtype: object"
            ]
          },
          "metadata": {},
          "execution_count": 22
        }
      ]
    },
    {
      "cell_type": "code",
      "source": [
        "max_deger = df.max()[1:]\n",
        "plt.figure(figsize = (15,5))\n",
        "\n",
        "drop_columns = ['Tarih']\n",
        "df_filtered = df[[col for col in df.columns if col not in drop_columns]]\n",
        "\n",
        "plt.plot(max_deger)\n",
        "plt.title(\"Veri Setindeki Maksimum Değerler\")\n",
        "plt.xlabel(\"Sütunlar\")\n",
        "plt.ylabel(\"Maksimum Değerler\")\n",
        "plt.show()"
      ],
      "metadata": {
        "colab": {
          "base_uri": "https://localhost:8080/",
          "height": 350
        },
        "id": "JxLT0RLgnoxp",
        "outputId": "82c648c8-cd91-40f0-9066-38c619ac8354"
      },
      "execution_count": 23,
      "outputs": [
        {
          "output_type": "display_data",
          "data": {
            "text/plain": [
              "<Figure size 1080x360 with 1 Axes>"
            ],
            "image/png": "[encoded data removed]"
          },
          "metadata": {
            "needs_background": "light"
          }
        }
      ]
    },
    {
      "cell_type": "code",
      "source": [
        "max_deger = df.max()[1:] # Birinci indeksi kaldırarak sadece 1. sütundan itibaren alın\n",
        "plt.figure(figsize = (15,5))\n",
        "\n",
        "# Grafik çiz\n",
        "plt.bar(max_deger.index, max_deger.values)\n",
        "plt.title(\"Veri Setindeki Barajların Maksimum Yağış Değerleri\")\n",
        "plt.xlabel(\"Sütunlar\")\n",
        "plt.ylabel(\"Maksimum Değerler\")\n",
        "plt.show()"
      ],
      "metadata": {
        "colab": {
          "base_uri": "https://localhost:8080/",
          "height": 350
        },
        "id": "BTAkLeqxnsT5",
        "outputId": "07bd9018-6eed-45dd-f11b-406f72ab7678"
      },
      "execution_count": 24,
      "outputs": [
        {
          "output_type": "display_data",
          "data": {
            "text/plain": [
              "<Figure size 1080x360 with 1 Axes>"
            ],
            "image/png": "[encoded data removed]"
          },
          "metadata": {
            "needs_background": "light"
          }
        }
      ]
    },
    {
      "cell_type": "code",
      "source": [
        "\n",
        "# Tarih sütununu datetime veri tipine dönüştürüyoruz\n",
        "df[\"Tarih\"] = pd.to_datetime(df[\"Tarih\"])\n",
        "\n",
        "# Belirtilen tarih aralığındaki verileri seçtik\n",
        "start_date = \"2011-01-01\"\n",
        "end_date = \"2011-01-30\"\n",
        "mask = (df[\"Tarih\"] >= start_date) & (df[\"Tarih\"] <= end_date)\n",
        "filtered_data = df.loc[mask]\n",
        "#print(filtered_data)\n",
        "column_name = \"Terkos\"\n",
        "selected_column = filtered_data[column_name]\n",
        "\n",
        "# Seçilen sütunu gösterdik\n",
        "print(selected_column)"
      ],
      "metadata": {
        "colab": {
          "base_uri": "https://localhost:8080/"
        },
        "id": "Emv5rYpGnvPS",
        "outputId": "a4c5fa63-6d1c-40ca-f250-d926a3651106"
      },
      "execution_count": 25,
      "outputs": [
        {
          "output_type": "stream",
          "name": "stdout",
          "text": [
            "0         0\n",
            "1         0\n",
            "2      0,42\n",
            "3     18,82\n",
            "4      3,42\n",
            "5      0,42\n",
            "6      9,11\n",
            "7         0\n",
            "8         0\n",
            "9         0\n",
            "10        0\n",
            "11        0\n",
            "12        0\n",
            "13        0\n",
            "14        0\n",
            "15     2,03\n",
            "16    15,82\n",
            "17        0\n",
            "18        0\n",
            "19        0\n",
            "20        0\n",
            "21        0\n",
            "22     3,12\n",
            "23     4,91\n",
            "24    18,44\n",
            "25    20,14\n",
            "26     6,41\n",
            "27        0\n",
            "28        0\n",
            "29     2,43\n",
            "Name: Terkos, dtype: object\n"
          ]
        }
      ]
    },
    {
      "cell_type": "code",
      "source": [
        "df_sazlidere = df[[\"Tarih\",\"Sazlidere\"]]#.set_index(\"Tarih\")\n",
        "df_sazlidere"
      ],
      "metadata": {
        "colab": {
          "base_uri": "https://localhost:8080/",
          "height": 424
        },
        "id": "UvzGSgu1nwqg",
        "outputId": "3e17b968-0ccb-4698-f1e7-f938b5673ef8"
      },
      "execution_count": 26,
      "outputs": [
        {
          "output_type": "execute_result",
          "data": {
            "text/plain": [
              "          Tarih Sazlidere\n",
              "0    2011-01-01         0\n",
              "1    2011-01-02         0\n",
              "2    2011-01-03      0,87\n",
              "3    2011-01-04     14,72\n",
              "4    2011-01-05      4,31\n",
              "...         ...       ...\n",
              "3718 2021-03-07       6,5\n",
              "3719 2021-03-08         0\n",
              "3720 2021-03-09         0\n",
              "3721 2021-03-10         0\n",
              "3722 2021-03-11       6,1\n",
              "\n",
              "[3723 rows x 2 columns]"
            ],
            "text/html": [
              "\n",
              "  <div id=\"df-c7380b01-2886-4604-b664-cadb2ff9eb51\">\n",
              "    <div class=\"colab-df-container\">\n",
              "      <div>\n",
              "<style scoped>\n",
              "    .dataframe tbody tr th:only-of-type {\n",
              "        vertical-align: middle;\n",
              "    }\n",
              "\n",
              "    .dataframe tbody tr th {\n",
              "        vertical-align: top;\n",
              "    }\n",
              "\n",
              "    .dataframe thead th {\n",
              "        text-align: right;\n",
              "    }\n",
              "</style>\n",
              "<table border=\"1\" class=\"dataframe\">\n",
              "  <thead>\n",
              "    <tr style=\"text-align: right;\">\n",
              "      <th></th>\n",
              "      <th>Tarih</th>\n",
              "      <th>Sazlidere</th>\n",
              "    </tr>\n",
              "  </thead>\n",
              "  <tbody>\n",
              "    <tr>\n",
              "      <th>0</th>\n",
              "      <td>2011-01-01</td>\n",
              "      <td>0</td>\n",
              "    </tr>\n",
              "    <tr>\n",
              "      <th>1</th>\n",
              "      <td>2011-01-02</td>\n",
              "      <td>0</td>\n",
              "    </tr>\n",
              "    <tr>\n",
              "      <th>2</th>\n",
              "      <td>2011-01-03</td>\n",
              "      <td>0,87</td>\n",
              "    </tr>\n",
              "    <tr>\n",
              "      <th>3</th>\n",
              "      <td>2011-01-04</td>\n",
              "      <td>14,72</td>\n",
              "    </tr>\n",
              "    <tr>\n",
              "      <th>4</th>\n",
              "      <td>2011-01-05</td>\n",
              "      <td>4,31</td>\n",
              "    </tr>\n",
              "    <tr>\n",
              "      <th>...</th>\n",
              "      <td>...</td>\n",
              "      <td>...</td>\n",
              "    </tr>\n",
              "    <tr>\n",
              "      <th>3718</th>\n",
              "      <td>2021-03-07</td>\n",
              "      <td>6,5</td>\n",
              "    </tr>\n",
              "    <tr>\n",
              "      <th>3719</th>\n",
              "      <td>2021-03-08</td>\n",
              "      <td>0</td>\n",
              "    </tr>\n",
              "    <tr>\n",
              "      <th>3720</th>\n",
              "      <td>2021-03-09</td>\n",
              "      <td>0</td>\n",
              "    </tr>\n",
              "    <tr>\n",
              "      <th>3721</th>\n",
              "      <td>2021-03-10</td>\n",
              "      <td>0</td>\n",
              "    </tr>\n",
              "    <tr>\n",
              "      <th>3722</th>\n",
              "      <td>2021-03-11</td>\n",
              "      <td>6,1</td>\n",
              "    </tr>\n",
              "  </tbody>\n",
              "</table>\n",
              "<p>3723 rows × 2 columns</p>\n",
              "</div>\n",
              "      <button class=\"colab-df-convert\" onclick=\"convertToInteractive('df-c7380b01-2886-4604-b664-cadb2ff9eb51')\"\n",
              "              title=\"Convert this dataframe to an interactive table.\"\n",
              "              style=\"display:none;\">\n",
              "        \n",
              "  <svg xmlns=\"http://www.w3.org/2000/svg\" height=\"24px\"viewBox=\"0 0 24 24\"\n",
              "       width=\"24px\">\n",
              "    <path d=\"M0 0h24v24H0V0z\" fill=\"none\"/>\n",
              "    <path d=\"M18.56 5.44l.94 2.06.94-2.06 2.06-.94-2.06-.94-.94-2.06-.94 2.06-2.06.94zm-11 1L8.5 8.5l.94-2.06 2.06-.94-2.06-.94L8.5 2.5l-.94 2.06-2.06.94zm10 10l.94 2.06.94-2.06 2.06-.94-2.06-.94-.94-2.06-.94 2.06-2.06.94z\"/><path d=\"M17.41 7.96l-1.37-1.37c-.4-.4-.92-.59-1.43-.59-.52 0-1.04.2-1.43.59L10.3 9.45l-7.72 7.72c-.78.78-.78 2.05 0 2.83L4 21.41c.39.39.9.59 1.41.59.51 0 1.02-.2 1.41-.59l7.78-7.78 2.81-2.81c.8-.78.8-2.07 0-2.86zM5.41 20L4 18.59l7.72-7.72 1.47 1.35L5.41 20z\"/>\n",
              "  </svg>\n",
              "      </button>\n",
              "      \n",
              "  <style>\n",
              "    .colab-df-container {\n",
              "      display:flex;\n",
              "      flex-wrap:wrap;\n",
              "      gap: 12px;\n",
              "    }\n",
              "\n",
              "    .colab-df-convert {\n",
              "      background-color: #E8F0FE;\n",
              "      border: none;\n",
              "      border-radius: 50%;\n",
              "      cursor: pointer;\n",
              "      display: none;\n",
              "      fill: #1967D2;\n",
              "      height: 32px;\n",
              "      padding: 0 0 0 0;\n",
              "      width: 32px;\n",
              "    }\n",
              "\n",
              "    .colab-df-convert:hover {\n",
              "      background-color: #E2EBFA;\n",
              "      box-shadow: 0px 1px 2px rgba(60, 64, 67, 0.3), 0px 1px 3px 1px rgba(60, 64, 67, 0.15);\n",
              "      fill: #174EA6;\n",
              "    }\n",
              "\n",
              "    [theme=dark] .colab-df-convert {\n",
              "      background-color: #3B4455;\n",
              "      fill: #D2E3FC;\n",
              "    }\n",
              "\n",
              "    [theme=dark] .colab-df-convert:hover {\n",
              "      background-color: #434B5C;\n",
              "      box-shadow: 0px 1px 3px 1px rgba(0, 0, 0, 0.15);\n",
              "      filter: drop-shadow(0px 1px 2px rgba(0, 0, 0, 0.3));\n",
              "      fill: #FFFFFF;\n",
              "    }\n",
              "  </style>\n",
              "\n",
              "      <script>\n",
              "        const buttonEl =\n",
              "          document.querySelector('#df-c7380b01-2886-4604-b664-cadb2ff9eb51 button.colab-df-convert');\n",
              "        buttonEl.style.display =\n",
              "          google.colab.kernel.accessAllowed ? 'block' : 'none';\n",
              "\n",
              "        async function convertToInteractive(key) {\n",
              "          const element = document.querySelector('#df-c7380b01-2886-4604-b664-cadb2ff9eb51');\n",
              "          const dataTable =\n",
              "            await google.colab.kernel.invokeFunction('convertToInteractive',\n",
              "                                                     [key], {});\n",
              "          if (!dataTable) return;\n",
              "\n",
              "          const docLinkHtml = 'Like what you see? Visit the ' +\n",
              "            '<a target=\"_blank\" href=https://colab.research.google.com/notebooks/data_table.ipynb>data table notebook</a>'\n",
              "            + ' to learn more about interactive tables.';\n",
              "          element.innerHTML = '';\n",
              "          dataTable['output_type'] = 'display_data';\n",
              "          await google.colab.output.renderOutput(dataTable, element);\n",
              "          const docLink = document.createElement('div');\n",
              "          docLink.innerHTML = docLinkHtml;\n",
              "          element.appendChild(docLink);\n",
              "        }\n",
              "      </script>\n",
              "    </div>\n",
              "  </div>\n",
              "  "
            ]
          },
          "metadata": {},
          "execution_count": 26
        }
      ]
    },
    {
      "cell_type": "code",
      "source": [
        "sns.lineplot(x = \"Tarih\", y = \"Sazlidere\", data = df_sazlidere)"
      ],
      "metadata": {
        "colab": {
          "base_uri": "https://localhost:8080/",
          "height": 296
        },
        "id": "Zi8hMnpRnztW",
        "outputId": "17ad7c1d-3828-4497-c96c-335dbf8eb6fe"
      },
      "execution_count": 27,
      "outputs": [
        {
          "output_type": "execute_result",
          "data": {
            "text/plain": [
              "<Axes: xlabel='Tarih', ylabel='Sazlidere'>"
            ]
          },
          "metadata": {},
          "execution_count": 27
        },
        {
          "output_type": "display_data",
          "data": {
            "text/plain": [
              "<Figure size 432x288 with 1 Axes>"
            ],
            "image/png": "[encoded data removed]"
          },
          "metadata": {
            "needs_background": "light"
          }
        }
      ]
    },
    {
      "cell_type": "code",
      "source": [
        "start_date = pd.to_datetime(\"2021.03.01\")\n",
        "start_date"
      ],
      "metadata": {
        "colab": {
          "base_uri": "https://localhost:8080/"
        },
        "id": "so3R86PIn_8f",
        "outputId": "595b8e91-08cc-4b07-c002-f79860f9d08c"
      },
      "execution_count": 28,
      "outputs": [
        {
          "output_type": "execute_result",
          "data": {
            "text/plain": [
              "Timestamp('2021-03-01 00:00:00')"
            ]
          },
          "metadata": {},
          "execution_count": 28
        }
      ]
    },
    {
      "cell_type": "code",
      "source": [
        "end_date = pd.to_datetime(\"2021-09-01\")\n",
        "end_date"
      ],
      "metadata": {
        "colab": {
          "base_uri": "https://localhost:8080/"
        },
        "id": "QNQKVnDaoCTR",
        "outputId": "0ae62556-783a-4fe9-8c3e-3f9852341173"
      },
      "execution_count": 29,
      "outputs": [
        {
          "output_type": "execute_result",
          "data": {
            "text/plain": [
              "Timestamp('2021-09-01 00:00:00')"
            ]
          },
          "metadata": {},
          "execution_count": 29
        }
      ]
    },
    {
      "cell_type": "code",
      "source": [
        "data = df_sazlidere[(df_sazlidere[\"Tarih\"] >= start_date) & (df_sazlidere[\"Tarih\"] <= end_date)]\n",
        "data"
      ],
      "metadata": {
        "colab": {
          "base_uri": "https://localhost:8080/",
          "height": 394
        },
        "id": "xtJNwh5doE5L",
        "outputId": "95eefbe1-4ca8-44c7-f727-3b6b87416bad"
      },
      "execution_count": 30,
      "outputs": [
        {
          "output_type": "execute_result",
          "data": {
            "text/plain": [
              "          Tarih Sazlidere\n",
              "3712 2021-03-01         0\n",
              "3713 2021-03-02       1,6\n",
              "3714 2021-03-03      2,02\n",
              "3715 2021-03-04         0\n",
              "3716 2021-03-05         0\n",
              "3717 2021-03-06         0\n",
              "3718 2021-03-07       6,5\n",
              "3719 2021-03-08         0\n",
              "3720 2021-03-09         0\n",
              "3721 2021-03-10         0\n",
              "3722 2021-03-11       6,1"
            ],
            "text/html": [
              "\n",
              "  <div id=\"df-f09eea3b-8300-418f-a912-2dd1f0944c57\">\n",
              "    <div class=\"colab-df-container\">\n",
              "      <div>\n",
              "<style scoped>\n",
              "    .dataframe tbody tr th:only-of-type {\n",
              "        vertical-align: middle;\n",
              "    }\n",
              "\n",
              "    .dataframe tbody tr th {\n",
              "        vertical-align: top;\n",
              "    }\n",
              "\n",
              "    .dataframe thead th {\n",
              "        text-align: right;\n",
              "    }\n",
              "</style>\n",
              "<table border=\"1\" class=\"dataframe\">\n",
              "  <thead>\n",
              "    <tr style=\"text-align: right;\">\n",
              "      <th></th>\n",
              "      <th>Tarih</th>\n",
              "      <th>Sazlidere</th>\n",
              "    </tr>\n",
              "  </thead>\n",
              "  <tbody>\n",
              "    <tr>\n",
              "      <th>3712</th>\n",
              "      <td>2021-03-01</td>\n",
              "      <td>0</td>\n",
              "    </tr>\n",
              "    <tr>\n",
              "      <th>3713</th>\n",
              "      <td>2021-03-02</td>\n",
              "      <td>1,6</td>\n",
              "    </tr>\n",
              "    <tr>\n",
              "      <th>3714</th>\n",
              "      <td>2021-03-03</td>\n",
              "      <td>2,02</td>\n",
              "    </tr>\n",
              "    <tr>\n",
              "      <th>3715</th>\n",
              "      <td>2021-03-04</td>\n",
              "      <td>0</td>\n",
              "    </tr>\n",
              "    <tr>\n",
              "      <th>3716</th>\n",
              "      <td>2021-03-05</td>\n",
              "      <td>0</td>\n",
              "    </tr>\n",
              "    <tr>\n",
              "      <th>3717</th>\n",
              "      <td>2021-03-06</td>\n",
              "      <td>0</td>\n",
              "    </tr>\n",
              "    <tr>\n",
              "      <th>3718</th>\n",
              "      <td>2021-03-07</td>\n",
              "      <td>6,5</td>\n",
              "    </tr>\n",
              "    <tr>\n",
              "      <th>3719</th>\n",
              "      <td>2021-03-08</td>\n",
              "      <td>0</td>\n",
              "    </tr>\n",
              "    <tr>\n",
              "      <th>3720</th>\n",
              "      <td>2021-03-09</td>\n",
              "      <td>0</td>\n",
              "    </tr>\n",
              "    <tr>\n",
              "      <th>3721</th>\n",
              "      <td>2021-03-10</td>\n",
              "      <td>0</td>\n",
              "    </tr>\n",
              "    <tr>\n",
              "      <th>3722</th>\n",
              "      <td>2021-03-11</td>\n",
              "      <td>6,1</td>\n",
              "    </tr>\n",
              "  </tbody>\n",
              "</table>\n",
              "</div>\n",
              "      <button class=\"colab-df-convert\" onclick=\"convertToInteractive('df-f09eea3b-8300-418f-a912-2dd1f0944c57')\"\n",
              "              title=\"Convert this dataframe to an interactive table.\"\n",
              "              style=\"display:none;\">\n",
              "        \n",
              "  <svg xmlns=\"http://www.w3.org/2000/svg\" height=\"24px\"viewBox=\"0 0 24 24\"\n",
              "       width=\"24px\">\n",
              "    <path d=\"M0 0h24v24H0V0z\" fill=\"none\"/>\n",
              "    <path d=\"M18.56 5.44l.94 2.06.94-2.06 2.06-.94-2.06-.94-.94-2.06-.94 2.06-2.06.94zm-11 1L8.5 8.5l.94-2.06 2.06-.94-2.06-.94L8.5 2.5l-.94 2.06-2.06.94zm10 10l.94 2.06.94-2.06 2.06-.94-2.06-.94-.94-2.06-.94 2.06-2.06.94z\"/><path d=\"M17.41 7.96l-1.37-1.37c-.4-.4-.92-.59-1.43-.59-.52 0-1.04.2-1.43.59L10.3 9.45l-7.72 7.72c-.78.78-.78 2.05 0 2.83L4 21.41c.39.39.9.59 1.41.59.51 0 1.02-.2 1.41-.59l7.78-7.78 2.81-2.81c.8-.78.8-2.07 0-2.86zM5.41 20L4 18.59l7.72-7.72 1.47 1.35L5.41 20z\"/>\n",
              "  </svg>\n",
              "      </button>\n",
              "      \n",
              "  <style>\n",
              "    .colab-df-container {\n",
              "      display:flex;\n",
              "      flex-wrap:wrap;\n",
              "      gap: 12px;\n",
              "    }\n",
              "\n",
              "    .colab-df-convert {\n",
              "      background-color: #E8F0FE;\n",
              "      border: none;\n",
              "      border-radius: 50%;\n",
              "      cursor: pointer;\n",
              "      display: none;\n",
              "      fill: #1967D2;\n",
              "      height: 32px;\n",
              "      padding: 0 0 0 0;\n",
              "      width: 32px;\n",
              "    }\n",
              "\n",
              "    .colab-df-convert:hover {\n",
              "      background-color: #E2EBFA;\n",
              "      box-shadow: 0px 1px 2px rgba(60, 64, 67, 0.3), 0px 1px 3px 1px rgba(60, 64, 67, 0.15);\n",
              "      fill: #174EA6;\n",
              "    }\n",
              "\n",
              "    [theme=dark] .colab-df-convert {\n",
              "      background-color: #3B4455;\n",
              "      fill: #D2E3FC;\n",
              "    }\n",
              "\n",
              "    [theme=dark] .colab-df-convert:hover {\n",
              "      background-color: #434B5C;\n",
              "      box-shadow: 0px 1px 3px 1px rgba(0, 0, 0, 0.15);\n",
              "      filter: drop-shadow(0px 1px 2px rgba(0, 0, 0, 0.3));\n",
              "      fill: #FFFFFF;\n",
              "    }\n",
              "  </style>\n",
              "\n",
              "      <script>\n",
              "        const buttonEl =\n",
              "          document.querySelector('#df-f09eea3b-8300-418f-a912-2dd1f0944c57 button.colab-df-convert');\n",
              "        buttonEl.style.display =\n",
              "          google.colab.kernel.accessAllowed ? 'block' : 'none';\n",
              "\n",
              "        async function convertToInteractive(key) {\n",
              "          const element = document.querySelector('#df-f09eea3b-8300-418f-a912-2dd1f0944c57');\n",
              "          const dataTable =\n",
              "            await google.colab.kernel.invokeFunction('convertToInteractive',\n",
              "                                                     [key], {});\n",
              "          if (!dataTable) return;\n",
              "\n",
              "          const docLinkHtml = 'Like what you see? Visit the ' +\n",
              "            '<a target=\"_blank\" href=https://colab.research.google.com/notebooks/data_table.ipynb>data table notebook</a>'\n",
              "            + ' to learn more about interactive tables.';\n",
              "          element.innerHTML = '';\n",
              "          dataTable['output_type'] = 'display_data';\n",
              "          await google.colab.output.renderOutput(dataTable, element);\n",
              "          const docLink = document.createElement('div');\n",
              "          docLink.innerHTML = docLinkHtml;\n",
              "          element.appendChild(docLink);\n",
              "        }\n",
              "      </script>\n",
              "    </div>\n",
              "  </div>\n",
              "  "
            ]
          },
          "metadata": {},
          "execution_count": 30
        }
      ]
    },
    {
      "cell_type": "code",
      "source": [
        "sns.lineplot(x = \"Tarih\", y = \"Sazlidere\", data = data);\n",
        "plt.xticks(rotation=90);"
      ],
      "metadata": {
        "colab": {
          "base_uri": "https://localhost:8080/",
          "height": 327
        },
        "id": "ZaLJXCp1oHaT",
        "outputId": "309ba3e3-bbce-4872-814c-3c6b785bc4b5"
      },
      "execution_count": 31,
      "outputs": [
        {
          "output_type": "display_data",
          "data": {
            "text/plain": [
              "<Figure size 432x288 with 1 Axes>"
            ],
            "image/png": "[encoded data removed]"
          },
          "metadata": {
            "needs_background": "light"
          }
        }
      ]
    },
    {
      "cell_type": "code",
      "source": [
        "start_date = pd.to_datetime(\"2011.01.01\")\n",
        "end_date = pd.to_datetime(\"2011-12-31\")\n",
        "data = df_sazlidere[(df_sazlidere[\"Tarih\"] >= start_date) & (df_sazlidere[\"Tarih\"] <= end_date)]\n",
        "data"
      ],
      "metadata": {
        "colab": {
          "base_uri": "https://localhost:8080/",
          "height": 424
        },
        "id": "IGreBRJyoKJS",
        "outputId": "0ec809a9-4ed8-457b-deef-8207db80e5b0"
      },
      "execution_count": 32,
      "outputs": [
        {
          "output_type": "execute_result",
          "data": {
            "text/plain": [
              "         Tarih Sazlidere\n",
              "0   2011-01-01         0\n",
              "1   2011-01-02         0\n",
              "2   2011-01-03      0,87\n",
              "3   2011-01-04     14,72\n",
              "4   2011-01-05      4,31\n",
              "..         ...       ...\n",
              "360 2011-12-27         0\n",
              "361 2011-12-28         0\n",
              "362 2011-12-29         0\n",
              "363 2011-12-30         0\n",
              "364 2011-12-31         0\n",
              "\n",
              "[365 rows x 2 columns]"
            ],
            "text/html": [
              "\n",
              "  <div id=\"df-531141d3-eaa4-4993-a84b-0c6b2ffbe6f8\">\n",
              "    <div class=\"colab-df-container\">\n",
              "      <div>\n",
              "<style scoped>\n",
              "    .dataframe tbody tr th:only-of-type {\n",
              "        vertical-align: middle;\n",
              "    }\n",
              "\n",
              "    .dataframe tbody tr th {\n",
              "        vertical-align: top;\n",
              "    }\n",
              "\n",
              "    .dataframe thead th {\n",
              "        text-align: right;\n",
              "    }\n",
              "</style>\n",
              "<table border=\"1\" class=\"dataframe\">\n",
              "  <thead>\n",
              "    <tr style=\"text-align: right;\">\n",
              "      <th></th>\n",
              "      <th>Tarih</th>\n",
              "      <th>Sazlidere</th>\n",
              "    </tr>\n",
              "  </thead>\n",
              "  <tbody>\n",
              "    <tr>\n",
              "      <th>0</th>\n",
              "      <td>2011-01-01</td>\n",
              "      <td>0</td>\n",
              "    </tr>\n",
              "    <tr>\n",
              "      <th>1</th>\n",
              "      <td>2011-01-02</td>\n",
              "      <td>0</td>\n",
              "    </tr>\n",
              "    <tr>\n",
              "      <th>2</th>\n",
              "      <td>2011-01-03</td>\n",
              "      <td>0,87</td>\n",
              "    </tr>\n",
              "    <tr>\n",
              "      <th>3</th>\n",
              "      <td>2011-01-04</td>\n",
              "      <td>14,72</td>\n",
              "    </tr>\n",
              "    <tr>\n",
              "      <th>4</th>\n",
              "      <td>2011-01-05</td>\n",
              "      <td>4,31</td>\n",
              "    </tr>\n",
              "    <tr>\n",
              "      <th>...</th>\n",
              "      <td>...</td>\n",
              "      <td>...</td>\n",
              "    </tr>\n",
              "    <tr>\n",
              "      <th>360</th>\n",
              "      <td>2011-12-27</td>\n",
              "      <td>0</td>\n",
              "    </tr>\n",
              "    <tr>\n",
              "      <th>361</th>\n",
              "      <td>2011-12-28</td>\n",
              "      <td>0</td>\n",
              "    </tr>\n",
              "    <tr>\n",
              "      <th>362</th>\n",
              "      <td>2011-12-29</td>\n",
              "      <td>0</td>\n",
              "    </tr>\n",
              "    <tr>\n",
              "      <th>363</th>\n",
              "      <td>2011-12-30</td>\n",
              "      <td>0</td>\n",
              "    </tr>\n",
              "    <tr>\n",
              "      <th>364</th>\n",
              "      <td>2011-12-31</td>\n",
              "      <td>0</td>\n",
              "    </tr>\n",
              "  </tbody>\n",
              "</table>\n",
              "<p>365 rows × 2 columns</p>\n",
              "</div>\n",
              "      <button class=\"colab-df-convert\" onclick=\"convertToInteractive('df-531141d3-eaa4-4993-a84b-0c6b2ffbe6f8')\"\n",
              "              title=\"Convert this dataframe to an interactive table.\"\n",
              "              style=\"display:none;\">\n",
              "        \n",
              "  <svg xmlns=\"http://www.w3.org/2000/svg\" height=\"24px\"viewBox=\"0 0 24 24\"\n",
              "       width=\"24px\">\n",
              "    <path d=\"M0 0h24v24H0V0z\" fill=\"none\"/>\n",
              "    <path d=\"M18.56 5.44l.94 2.06.94-2.06 2.06-.94-2.06-.94-.94-2.06-.94 2.06-2.06.94zm-11 1L8.5 8.5l.94-2.06 2.06-.94-2.06-.94L8.5 2.5l-.94 2.06-2.06.94zm10 10l.94 2.06.94-2.06 2.06-.94-2.06-.94-.94-2.06-.94 2.06-2.06.94z\"/><path d=\"M17.41 7.96l-1.37-1.37c-.4-.4-.92-.59-1.43-.59-.52 0-1.04.2-1.43.59L10.3 9.45l-7.72 7.72c-.78.78-.78 2.05 0 2.83L4 21.41c.39.39.9.59 1.41.59.51 0 1.02-.2 1.41-.59l7.78-7.78 2.81-2.81c.8-.78.8-2.07 0-2.86zM5.41 20L4 18.59l7.72-7.72 1.47 1.35L5.41 20z\"/>\n",
              "  </svg>\n",
              "      </button>\n",
              "      \n",
              "  <style>\n",
              "    .colab-df-container {\n",
              "      display:flex;\n",
              "      flex-wrap:wrap;\n",
              "      gap: 12px;\n",
              "    }\n",
              "\n",
              "    .colab-df-convert {\n",
              "      background-color: #E8F0FE;\n",
              "      border: none;\n",
              "      border-radius: 50%;\n",
              "      cursor: pointer;\n",
              "      display: none;\n",
              "      fill: #1967D2;\n",
              "      height: 32px;\n",
              "      padding: 0 0 0 0;\n",
              "      width: 32px;\n",
              "    }\n",
              "\n",
              "    .colab-df-convert:hover {\n",
              "      background-color: #E2EBFA;\n",
              "      box-shadow: 0px 1px 2px rgba(60, 64, 67, 0.3), 0px 1px 3px 1px rgba(60, 64, 67, 0.15);\n",
              "      fill: #174EA6;\n",
              "    }\n",
              "\n",
              "    [theme=dark] .colab-df-convert {\n",
              "      background-color: #3B4455;\n",
              "      fill: #D2E3FC;\n",
              "    }\n",
              "\n",
              "    [theme=dark] .colab-df-convert:hover {\n",
              "      background-color: #434B5C;\n",
              "      box-shadow: 0px 1px 3px 1px rgba(0, 0, 0, 0.15);\n",
              "      filter: drop-shadow(0px 1px 2px rgba(0, 0, 0, 0.3));\n",
              "      fill: #FFFFFF;\n",
              "    }\n",
              "  </style>\n",
              "\n",
              "      <script>\n",
              "        const buttonEl =\n",
              "          document.querySelector('#df-531141d3-eaa4-4993-a84b-0c6b2ffbe6f8 button.colab-df-convert');\n",
              "        buttonEl.style.display =\n",
              "          google.colab.kernel.accessAllowed ? 'block' : 'none';\n",
              "\n",
              "        async function convertToInteractive(key) {\n",
              "          const element = document.querySelector('#df-531141d3-eaa4-4993-a84b-0c6b2ffbe6f8');\n",
              "          const dataTable =\n",
              "            await google.colab.kernel.invokeFunction('convertToInteractive',\n",
              "                                                     [key], {});\n",
              "          if (!dataTable) return;\n",
              "\n",
              "          const docLinkHtml = 'Like what you see? Visit the ' +\n",
              "            '<a target=\"_blank\" href=https://colab.research.google.com/notebooks/data_table.ipynb>data table notebook</a>'\n",
              "            + ' to learn more about interactive tables.';\n",
              "          element.innerHTML = '';\n",
              "          dataTable['output_type'] = 'display_data';\n",
              "          await google.colab.output.renderOutput(dataTable, element);\n",
              "          const docLink = document.createElement('div');\n",
              "          docLink.innerHTML = docLinkHtml;\n",
              "          element.appendChild(docLink);\n",
              "        }\n",
              "      </script>\n",
              "    </div>\n",
              "  </div>\n",
              "  "
            ]
          },
          "metadata": {},
          "execution_count": 32
        }
      ]
    },
    {
      "cell_type": "code",
      "source": [
        "plt.figure(figsize=(18,15))\n",
        "sns.lineplot(x = \"Tarih\", y = \"Sazlidere\", data = data);\n",
        "plt.xticks(rotation=90);"
      ],
      "metadata": {
        "colab": {
          "base_uri": "https://localhost:8080/",
          "height": 909
        },
        "id": "xuEJ44sxoOPq",
        "outputId": "75582ba6-6ba7-4d8a-843d-c14db82fe773"
      },
      "execution_count": 33,
      "outputs": [
        {
          "output_type": "display_data",
          "data": {
            "text/plain": [
              "<Figure size 1296x1080 with 1 Axes>"
            ],
            "image/png": "[encoded data removed]"
          },
          "metadata": {
            "needs_background": "light"
          }
        }
      ]
    },
    {
      "cell_type": "code",
      "source": [
        "# Tarih sütununu datetime veri tipine dönüştürdük\n",
        "df[\"Tarih\"] = pd.to_datetime(df[\"Tarih\"])\n",
        "\n",
        "# Belirtilen tarih aralığındaki verileri seçtik\n",
        "start_date = \"1.03.2021\"\n",
        "end_date = \"5.03.2021\"\n",
        "mask = (df[\"Tarih\"] >= start_date) & (df[\"Tarih\"] <= end_date)\n",
        "filtered_data = df.loc[mask]\n",
        "\n",
        "# Sadece bir sütundaki verileri seçtik\n",
        "selected_column = \"Ömerli\"\n",
        "column_data = filtered_data[selected_column]\n",
        "plt.figure(figsize = (13,10))\n",
        "# Çizgi grafiği ile sütun verilerini gösterdik\n",
        "sns.lineplot(x=filtered_data[\"Tarih\"], y=column_data)\n",
        "plt.show()"
      ],
      "metadata": {
        "colab": {
          "base_uri": "https://localhost:8080/",
          "height": 606
        },
        "id": "eDBCQNK-oTxT",
        "outputId": "6e5fb93c-f296-4065-94a5-f958045b1000"
      },
      "execution_count": 34,
      "outputs": [
        {
          "output_type": "display_data",
          "data": {
            "text/plain": [
              "<Figure size 936x720 with 1 Axes>"
            ],
            "image/png": "[encoded data removed]"
          },
          "metadata": {
            "needs_background": "light"
          }
        }
      ]
    },
    {
      "cell_type": "code",
      "source": [
        "#2011 yılında Darlik Barajının yağış durumunu gösterdik\n",
        "darlik_2011 = [\"Tarih\", \"Darlik\"]\n",
        "darlik_2011= df.loc[0:360, darlik_2011]\n",
        "darlik_2011\n",
        "darlik_2011.groupby('Tarih')['Darlik'].sum().sort_values(ascending=False)\n",
        "#Darlik barajında 2011 yılında en çok yağışın 19 Mart tarihinde olduğu söylenebilir."
      ],
      "metadata": {
        "colab": {
          "base_uri": "https://localhost:8080/"
        },
        "id": "rul4GOCAoSyo",
        "outputId": "5f93314b-fa19-40b7-c067-d4ea8686a660"
      },
      "execution_count": 35,
      "outputs": [
        {
          "output_type": "execute_result",
          "data": {
            "text/plain": [
              "Tarih\n",
              "2011-03-19    8,73\n",
              "2011-01-05    8,48\n",
              "2011-12-19    8,13\n",
              "2011-12-21    8,13\n",
              "2011-12-07    7,54\n",
              "              ... \n",
              "2011-06-02       0\n",
              "2011-06-01       0\n",
              "2011-05-31       0\n",
              "2011-05-30       0\n",
              "2011-12-27       0\n",
              "Name: Darlik, Length: 361, dtype: object"
            ]
          },
          "metadata": {},
          "execution_count": 35
        }
      ]
    },
    {
      "cell_type": "code",
      "source": [
        "#betimsel istatistiklerini inceleyeliyoruz.\n",
        "darlik_2011.Darlik.agg(['max', 'min']) \n",
        "df['Darlik'].describe()"
      ],
      "metadata": {
        "colab": {
          "base_uri": "https://localhost:8080/"
        },
        "id": "slrK493DofoW",
        "outputId": "76a9bce3-9ae8-4872-b21f-7749e864a773"
      },
      "execution_count": 36,
      "outputs": [
        {
          "output_type": "execute_result",
          "data": {
            "text/plain": [
              "count     3723\n",
              "unique     690\n",
              "top          0\n",
              "freq      2571\n",
              "Name: Darlik, dtype: object"
            ]
          },
          "metadata": {},
          "execution_count": 36
        }
      ]
    },
    {
      "cell_type": "code",
      "source": [
        "#Elmali barajında ocak ayı ortalama yağış \n",
        "elmali_ortalama = [\"Tarih\", \"Elmali\"]\n",
        "elmali_ortalama = df.loc[365:395, elmali_ortalama]\n",
        "elmali_ortalama\n",
        "elmali_data=\t[6.99 , 0.4 ,0 ,0, 0, 0,\t3.8,\t11.12 , 6.05 , 1.45 , 6.37, 7.61,\t0,\t0,\t9.55,\t0,\t13.6,\t0,\t0.5,\t0,\t2.36,\t6.89,\t0,\t0,\t2.47,\t4.52\t,\t1.86,\t1.5,\t6.5,\t1,\t1.94]\n",
        "elmali_ortalama= (sum(elmali_data)/31)\n",
        "elmali_ortalama\n",
        "#elmali barajında 2012 ocak ayında ortalama yağış 3.11 dir."
      ],
      "metadata": {
        "colab": {
          "base_uri": "https://localhost:8080/"
        },
        "id": "-zyMwnz4E3S_",
        "outputId": "491ad663-4b21-45c1-8f61-c3a8e9e303be"
      },
      "execution_count": 37,
      "outputs": [
        {
          "output_type": "execute_result",
          "data": {
            "text/plain": [
              "3.1122580645161286"
            ]
          },
          "metadata": {},
          "execution_count": 37
        }
      ]
    },
    {
      "cell_type": "code",
      "source": [
        "data = [\"Tarih\"\t,\"Ömerli\" , \"Darlik\",  \"Elmali\",\t\"Terkos\"\t, \"B.çekmece\",\t\"Sazlidere\",\t\"Alibey\",\t\"Kazandere\"\t, \"Pabuçdere\"]\n",
        "df.loc[3, data]\n",
        "# 4 ocaktaki değerler\n"
      ],
      "metadata": {
        "id": "i2B4w56EIxxZ",
        "colab": {
          "base_uri": "https://localhost:8080/"
        },
        "outputId": "a817ff4d-3ff4-432a-ed44-4d3858e9bdd4"
      },
      "execution_count": 38,
      "outputs": [
        {
          "output_type": "execute_result",
          "data": {
            "text/plain": [
              "Tarih        2011-01-04 00:00:00\n",
              "Ömerli                      8,08\n",
              "Darlik                     10,01\n",
              "Elmali                     11,64\n",
              "Terkos                     18,82\n",
              "B.çekmece                   9,64\n",
              "Sazlidere                  14,72\n",
              "Alibey                      13,5\n",
              "Kazandere                    8,2\n",
              "Pabuçdere                  10,37\n",
              "Name: 3, dtype: object"
            ]
          },
          "metadata": {},
          "execution_count": 38
        }
      ]
    },
    {
      "cell_type": "code",
      "source": [
        "#2011 4 ocak günü icin yagis\n",
        "data = [\"Tarih\"\t,\"Ömerli\" , \"Darlik\",  \"Elmali\",\t\"Terkos\"\t, \"B.çekmece\",\t\"Sazlidere\",\t\"Alibey\",\t\"Kazandere\"\t, \"Pabuçdere\"]\n",
        "df.loc[3, data]\n",
        "ocak = [8.08, 10.01, 11.64, 18.82, 9.64, 14.72, 13.5, 8.2, 10.37]\n",
        "baraj = [ \"Ömerli\", \"Darlik\", \"Elmali\", \"Terkos\", \"B.çekmece\", \"Sazlidere\", \"Alibey\", \"Kazandere\", \"Pabuçdere\"]"
      ],
      "metadata": {
        "id": "F1kQ6mFEonrt"
      },
      "execution_count": 39,
      "outputs": []
    },
    {
      "cell_type": "code",
      "source": [
        "#4 Ocak 2011 İçin Yağış Grafiği\n",
        "fig = plt.figure(figsize = (35, 5))\n",
        "ocak_grafik = fig.add_subplot(1,3,1)\n",
        "ocak_grafik.bar(baraj, ocak, color=\"red\")\n",
        "ocak_grafik.set_title(\"4 Ocak 2011 Yağış Grafiği\")"
      ],
      "metadata": {
        "colab": {
          "base_uri": "https://localhost:8080/",
          "height": 353
        },
        "id": "FCOxKunBIyxl",
        "outputId": "4df9c9f9-2085-4962-dbb6-3e1c8031f017"
      },
      "execution_count": 40,
      "outputs": [
        {
          "output_type": "execute_result",
          "data": {
            "text/plain": [
              "Text(0.5, 1.0, '4 Ocak 2011 Yağış Grafiği')"
            ]
          },
          "metadata": {},
          "execution_count": 40
        },
        {
          "output_type": "display_data",
          "data": {
            "text/plain": [
              "<Figure size 2520x360 with 1 Axes>"
            ],
            "image/png": "[encoded data removed]"
          },
          "metadata": {
            "needs_background": "light"
          }
        }
      ]
    },
    {
      "cell_type": "code",
      "source": [
        "#2011 17 Ocak günü icin yagis\n",
        "data = [\"Tarih\"    ,\"Ömerli\" , \"Darlik\",  \"Elmali\",    \"Terkos\"    , \"B.çekmece\",    \"Sazlidere\",    \"Alibey\",    \"Kazandere\"    , \"Pabuçdere\"]\n",
        "df.loc[16, data]\n",
        "ocak_17 = [4.98, 4.82, 3.36, 15.82, 2.32, 3.07, 6.51, 11.82, 16.24]\n",
        "baraj = [ \"Ömerli\", \"Darlik\", \"Elmali\", \"Terkos\", \"B.çekmece\", \"Sazlidere\", \"Alibey\", \"Kazandere\", \"Pabuçdere\"]\n",
        "#17 Ocak 2011 İçin Yağış Grafiği\n",
        "fig = plt.figure(figsize = (35, 5))\n",
        "ocak_grafik_2 = fig.add_subplot(1,3,1)\n",
        "ocak_grafik_2.scatter(baraj, ocak_17, color=\"green\")\n",
        "ocak_grafik_2.set_title(\"17 Ocak 2011 Yağış Grafiği\")\n"
      ],
      "metadata": {
        "colab": {
          "base_uri": "https://localhost:8080/",
          "height": 353
        },
        "id": "WbQybwvbqm4s",
        "outputId": "42ae4aa9-3df2-4a5e-f4d3-311425ab8b53"
      },
      "execution_count": 41,
      "outputs": [
        {
          "output_type": "execute_result",
          "data": {
            "text/plain": [
              "Text(0.5, 1.0, '17 Ocak 2011 Yağış Grafiği')"
            ]
          },
          "metadata": {},
          "execution_count": 41
        },
        {
          "output_type": "display_data",
          "data": {
            "text/plain": [
              "<Figure size 2520x360 with 1 Axes>"
            ],
            "image/png": "[encoded data removed]"
          },
          "metadata": {
            "needs_background": "light"
          }
        }
      ]
    },
    {
      "cell_type": "code",
      "source": [
        "# 2019 kasım ortalama\n",
        "kasım_ortalama = [\"Tarih\"\t,\"Ömerli\" , \"Darlik\",  \"Elmali\",\t\"Terkos\"\t, \"B.çekmece\",\t\"Sazlidere\",\t\"Alibey\",\t\"Kazandere\"\t, \"Pabuçdere\"]\n",
        "df.loc[3226:3255, kasım_ortalama]\n",
        "omerli_ortalama = (1.5+ 1.73+ 2.33+ 5.05)/30\n",
        "darlik_ortalama = (1.64+2.7+ 6.51+ 10.51)/30\n",
        "elmali_ortalama = (0.39 + 1.7+ 2.1+ 7.1 +11)/30\n",
        "terkos_ortalama = (3.95+ 1.48+ 8.32+ 13.77)/30\n",
        "buyukcekmece_ortalama = (1.5 + 2.1+ 3.9+ 1.03)/30\n",
        "sazlidere_ortalama = (1.9+ 0.4+ 1.4+ 9.2+ 18.31)/30\n",
        "alibey_ortalama = (0.41+ 0.6+ 6.5+ 4.5)/30\n",
        "kazandere_ortalama = (2.7+ 6.5+ 42+ 15.4+ 1.2+ 12)/30\n",
        "pabucdere_ortalama =(2.3+ 9.3+ 35.1+ 11.4+ 2.4+ 16.2)/30\n",
        "#veriyi inceleyerek 0 değerlerini çıkardım ve her bir baraj için ortalamaları elde ettim."
      ],
      "metadata": {
        "id": "Hv3HHLN9qzOK"
      },
      "execution_count": 42,
      "outputs": []
    },
    {
      "cell_type": "code",
      "source": [
        "ortalamalar = (omerli_ortalama, darlik_ortalama, elmali_ortalama, terkos_ortalama, buyukcekmece_ortalama, sazlidere_ortalama, alibey_ortalama, kazandere_ortalama, pabucdere_ortalama)\n",
        "baraj = [ \"Ömerli\", \"Darlik\", \"Elmali\", \"Terkos\", \"B.çekmece\", \"Sazlidere\", \"Alibey\", \"Kazandere\", \"Pabuçdere\"]\n",
        "#2019 Kasım ayı için ortalama yağışlar\n",
        "fig = plt.figure(figsize = (35, 5))\n",
        "kasım_ortalama_grafik = fig.add_subplot(1,3,2)\n",
        "kasım_ortalama_grafik.scatter(baraj, ortalamalar , color =\"orange\")\n",
        "kasım_ortalama_grafik.set_title(\"Kasım Ayı Ortalama Yagis Grafigi\")\n",
        "#Kasım ayı ortalama yağışlarına baktığımızda en çok Kazandere ve Pbuçdere barajlarında en az ise Büyükçekmece ve Ömerli barajlarında olduğunu söyleyebiliriz."
      ],
      "metadata": {
        "id": "KIDb1_VQR9re",
        "colab": {
          "base_uri": "https://localhost:8080/",
          "height": 353
        },
        "outputId": "cde0588e-666e-4958-b818-d13dbf711738"
      },
      "execution_count": 43,
      "outputs": [
        {
          "output_type": "execute_result",
          "data": {
            "text/plain": [
              "Text(0.5, 1.0, 'Kasım Ayı Ortalama Yagis Grafigi')"
            ]
          },
          "metadata": {},
          "execution_count": 43
        },
        {
          "output_type": "display_data",
          "data": {
            "text/plain": [
              "<Figure size 2520x360 with 1 Axes>"
            ],
            "image/png": "[encoded data removed]"
          },
          "metadata": {
            "needs_background": "light"
          }
        }
      ]
    },
    {
      "cell_type": "code",
      "source": [
        "import matplotlib.pyplot as plt\n",
        "import numpy as np\n",
        "#4 Nisan\n",
        "# Verileri tanımlıyoruz.\n",
        "sutunlar = ['Terkos', 'Kazandere']\n",
        "y1 = [18.82, 8.2] # İlk değerler\n",
        "\n",
        "bar_width = 0.34\n",
        "\n",
        "# Grafiği oluşturduk\n",
        "fig, ax = plt.subplots()\n",
        "bar1 = ax.bar(sutunlar, y1, bar_width, label='Değer')\n",
        "\n",
        "ax.set_xlabel('Sütunlar')\n",
        "ax.set_ylabel('Değerler')\n",
        "ax.set_title('Belirli Bir Tarihteki İki Sütunlu Bar Grafiği')\n",
        "ax.legend()\n",
        "\n",
        "plt.show()"
      ],
      "metadata": {
        "colab": {
          "base_uri": "https://localhost:8080/",
          "height": 296
        },
        "id": "fAk0ICCUfFJL",
        "outputId": "a7d66542-b082-4a24-bbb2-e439b2279526"
      },
      "execution_count": 44,
      "outputs": [
        {
          "output_type": "display_data",
          "data": {
            "text/plain": [
              "<Figure size 432x288 with 1 Axes>"
            ],
            "image/png": "[encoded data removed]"
          },
          "metadata": {
            "needs_background": "light"
          }
        }
      ]
    }
  ]
}